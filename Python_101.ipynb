{
  "cells": [
    {
      "cell_type": "markdown",
      "metadata": {
        "id": "view-in-github",
        "colab_type": "text"
      },
      "source": [
        "<a href=\"https://colab.research.google.com/github/zahidecive/hu-bby-162-2022/blob/main/Python_101.ipynb\" target=\"_parent\"><img src=\"https://colab.research.google.com/assets/colab-badge.svg\" alt=\"Open In Colab\"/></a>"
      ]
    },
    {
      "cell_type": "markdown",
      "metadata": {
        "id": "NfVak32KVWSs"
      },
      "source": [
        "#Bölüm 00: Python'a Giriş"
      ]
    },
    {
      "cell_type": "markdown",
      "metadata": {
        "id": "Jx99cm91VfHw"
      },
      "source": [
        "## Yazar Hakkında\n",
        "\n",
        "Zahide CİVE "
      ]
    },
    {
      "cell_type": "markdown",
      "metadata": {
        "id": "Pg3xaBR3XNNs"
      },
      "source": [
        "##Çalışma Defteri Hakkında\n",
        "\n",
        "Bu çalışma defteri Google'ın Jupyter Notebook platformuna benzer özellikler taşıyan Google Colab üzerinde oluşturulmuştur. Google Colab, herhangi bir altyapı düzenlemesine ihtiyaç duymadan Web tabanlı olarak Python kodları yazmanıza ve çalıştırmanıza imkan veren ücretsiz bir platformdur. Platform ile ilgili detaylı bilgiye [https://colab.research.google.com/notebooks/intro.ipynb](https://colab.research.google.com/notebooks/intro.ipynb) adresinden ulaşabilirsiniz.\n",
        "\n",
        "Python'a giriş seviyesinde 10 dersten oluşan bu çalışma defteri daha önce kodlama deneyimi olmayan öğrenenler için hazırlanmıştır. Etkileşimli yapısından dolayı hem konu anlatımlarının hem de çalıştırılabilir örneklerin bir arada olduğu bu yapı, sürekli olarak güncellenebilecek bir altyapıya sahiptir. Bu açıdan çalışma defterinin güncel sürümünü aşağıdaki adresten kontrol etmenizi tavsiye ederim.\n",
        "\n",
        "Sürüm 1.0: [Python 101](https://github.com/orcunmadran/Python101/blob/main/Python_101.ipynb)\n",
        "\n",
        "İyi çalışmalar ve başarılar :)"
      ]
    },
    {
      "cell_type": "markdown",
      "metadata": {
        "id": "6IOyCRzqRgBu"
      },
      "source": [
        "## Kullanım Şartları\n",
        "\n",
        "Bu çalışma defteri aşağıda belirtilen şartlar altında, katkıda bulunanlara Atıf vermek ve aynı lisansla paylaşmak kaydıyla ticari amaç dahil olmak üzere her şekilde dağıtabilir, paylaşabilir, üzerinde değişiklik yapılarak yeniden kullanılabilir.\n",
        "\n",
        "\n",
        "---\n",
        "\n",
        "![Atıf-AynıLisanslaPaylaş 4.0 Uluslararası Lisansı](https://i.creativecommons.org/l/by-sa/4.0/88x31.png)\n",
        "\n",
        "Bu çalışma defteri Jetbrains'in \"Introduction to Python\" dersi temel alınarak hazırlanmış ve Creative Commons [Atıf-AynıLisanslaPaylaş 4.0 Uluslararası Lisansı](http://creativecommons.org/licenses/by-sa/4.0/) ile lisanslanmıştır.\n",
        "\n",
        "---\n",
        "\n"
      ]
    },
    {
      "cell_type": "markdown",
      "metadata": {
        "id": "AE4EYdj6VPvq"
      },
      "source": [
        "# Bölüm 01: Giriş\n",
        "\n",
        "Bu bölümde:\n",
        "\n",
        "*   İlk bilgisayar programımız,\n",
        "*   Yorumlar yer almaktadır."
      ]
    },
    {
      "cell_type": "markdown",
      "metadata": {
        "id": "4nLn-agoUdfh"
      },
      "source": [
        "## İlk Bilgisayar Programımız\n",
        "Geleneksel olarak herhangi bir programlama dilinde yazılan ilk program \"Merhaba Dünya!\"'dır."
      ]
    },
    {
      "cell_type": "markdown",
      "metadata": {
        "id": "xhY6ovVFSBp1"
      },
      "source": [
        "**Örnek Uygulama:**\n",
        "\n",
        "\n",
        "```\n",
        "print(\"Merhaba Dünya!\")\n",
        "```\n",
        "\n",
        "\n"
      ]
    },
    {
      "cell_type": "code",
      "execution_count": null,
      "metadata": {
        "id": "ji14524dirwG"
      },
      "outputs": [],
      "source": [
        "# Örnek uygulamayı çalıştır\n",
        "\n",
        "print(\"Merhaba Dünya!\")"
      ]
    },
    {
      "cell_type": "markdown",
      "metadata": {
        "id": "MuYQpCfoh7In"
      },
      "source": [
        "**Görev:** Kendinizi dünyaya tanıtacak ilk bilgisayar programını yazın!"
      ]
    },
    {
      "cell_type": "code",
      "execution_count": null,
      "metadata": {
        "cellView": "both",
        "colab": {
          "base_uri": "https://localhost:8080/"
        },
        "id": "CBHkVbIlUXgW",
        "outputId": "1b7ea268-bdf5-4b6d-b7da-912c35dbcc73"
      },
      "outputs": [
        {
          "name": "stdout",
          "output_type": "stream",
          "text": [
            "Merhaba Millet!\n"
          ]
        }
      ],
      "source": [
        "print(\"Merhaba Millet!\")"
      ]
    },
    {
      "cell_type": "markdown",
      "metadata": {
        "id": "0S8fTkAqVb4v"
      },
      "source": [
        "## Yorumlar\n",
        "Python'daki yorumlar # \"hash\" karakteriyle başlar ve fiziksel çizginin sonuna kadar uzanır. Yorum yapmak için kullanılan # \"hash\" karakteri kod satırlarını geçici olarak devre dışı bırakmak amacıyla da kullanılabilir. "
      ]
    },
    {
      "cell_type": "markdown",
      "metadata": {
        "id": "ql-GYfPYWpUW"
      },
      "source": [
        "**Örnek Uygulama:**\n",
        "\n",
        "\n",
        "```\n",
        "# Bu ilk bilgisayar programım için ilk yorumum\n",
        "print(\"# bu bir yorum değildir\")\n",
        "print(\"Merhaba!\")  # yorumlar kod satırının devamında da yapılabilir.\n",
        "#print(\"Bu kod geçici olarak devre dışı bırakılmıştır.\")\n",
        "```\n",
        "\n"
      ]
    },
    {
      "cell_type": "code",
      "execution_count": null,
      "metadata": {
        "id": "ZjHL-qoEd7Bj"
      },
      "outputs": [],
      "source": [
        "# Örnek uygulamayı çalıştır\n",
        "\n",
        "# Bu ilk bilgisayar programım için ilk yorumum\n",
        "print(\"# bu bir yorum değildir\")\n",
        "print(\"Merhaba!\")  # yorumlar kod satırının devamında da yapılabilir.\n",
        "# print(\"Bu kod geçici olarak devre dışı bırakılmıştır.\")"
      ]
    },
    {
      "cell_type": "markdown",
      "metadata": {
        "id": "4ufK03hEiP76"
      },
      "source": [
        "**Görev:** Python kodunuza yeni bir yorum ekleyin, mevcut satıra yorum ekleyin, yazılmış olan bir kod satırını geçici olarak devre dışı bırakın!"
      ]
    },
    {
      "cell_type": "code",
      "execution_count": null,
      "metadata": {
        "colab": {
          "base_uri": "https://localhost:8080/"
        },
        "id": "QzUppEjoXLPM",
        "outputId": "9a31cd3d-d6b6-44dc-8ecb-9287e32411c3"
      },
      "outputs": [
        {
          "name": "stdout",
          "output_type": "stream",
          "text": [
            "Mavi bir renktir.\n"
          ]
        }
      ],
      "source": [
        "print(\"Mavi bir renktir.\")\n",
        "# print(\"Mavi en güzel renktir.\") "
      ]
    },
    {
      "cell_type": "markdown",
      "metadata": {
        "id": "9JeaGlvQYylS"
      },
      "source": [
        "# Bölüm 02: Değişkenler\n",
        "Bu bölümde:\n",
        "\n",
        "\n",
        "*   Değişken nedir?,\n",
        "*   Değişken tanımlama,\n",
        "*   Değişken türleri,\n",
        "*   Değişken türü dönüştürme,\n",
        "*   Aritmetik operatörler,\n",
        "*   Artıtılmış atama operatörleri,\n",
        "*   Boolean operatörleri,\n",
        "*   Karşılaştırma operatörleri yer almaktadır.\n",
        "\n"
      ]
    },
    {
      "cell_type": "markdown",
      "metadata": {
        "id": "VzeGixS6Y919"
      },
      "source": [
        "## Değişken Nedir?\n",
        "Değişkenler değerleri depolamak için kullanılır. Böylece daha sonra bu değişkenler program içinden çağırılarak atanan değer tekrar ve tekrar kullanılabilir. Değişkenlere metinler ve / veya sayılar atanabilir. Sayı atamaları direkt rakamların yazılması ile gerçekleştirilirken, metin atamalarında metin tek tırnak içinde ( 'abc' ) ya da çift tırnak ( \"abc\" ) içinde atanır.\n",
        "\n",
        "Değişkenler etiketlere benzer ve atama operatörü olarak adlandırılan eşittir ( = ) operatörü ile bir değişkene bir değer atanabilir. Bir değer ataması zincirleme şeklinde gerçekleştirilebilir. Örneğin: a = b = 2"
      ]
    },
    {
      "cell_type": "markdown",
      "metadata": {
        "id": "7tWAdnNlZtQr"
      },
      "source": [
        "**Örnek Uygulama 1**\n",
        "\n",
        "Aşağıda bir \"zincir atama\" örneği yer almaktadır. Değer olarak atanan 2 hem  \"a\" değişkenine, hem de \"b\" değişkenine atanmaktadır.\n",
        "\n",
        "```\n",
        "a = b = 2\n",
        "print(\"a = \" + str(a))\n",
        "print(\"b = \" + str(b))\n",
        "```\n",
        "\n",
        "\"a\" ve \"b\" değişkenleri başka metinler ile birlikte ekrana yazdırılmak istendiğinde metin formatına çevrilmesi gerekmektedir. Bu bağlamda kullanılan \"str(a)\" ve  \"str(b)\" ifadeleri eğitimin ilerleyen bölümlerinde anlatılacaktır."
      ]
    },
    {
      "cell_type": "code",
      "execution_count": null,
      "metadata": {
        "colab": {
          "base_uri": "https://localhost:8080/"
        },
        "id": "lmrymxeNjAR5",
        "outputId": "2c9b8fc3-5ac9-4e08-c28d-d2624d8e2700"
      },
      "outputs": [
        {
          "name": "stdout",
          "output_type": "stream",
          "text": [
            "a=4\n",
            "b=4\n"
          ]
        }
      ],
      "source": [
        "# Örnek uygulamayı çalıştır\n",
        "\n",
        "a=b=4\n",
        "print(\"a=\"+ str(a))\n",
        "print(\"b=\"+ str(b))"
      ]
    },
    {
      "cell_type": "markdown",
      "metadata": {
        "id": "3eqETZKEi7ZG"
      },
      "source": [
        "**Örnek Uygulama 2**\n",
        "\n",
        "\n",
        "```\n",
        "adSoyad = \"Orçun Madran\"\n",
        "print(\"Adı Soyadı: \" + adSoyad)\n",
        "```"
      ]
    },
    {
      "cell_type": "code",
      "execution_count": null,
      "metadata": {
        "colab": {
          "base_uri": "https://localhost:8080/"
        },
        "id": "4iU4Hw7wjNzk",
        "outputId": "bae329a6-979f-456a-e8a7-1b5fbb4d6406"
      },
      "outputs": [
        {
          "name": "stdout",
          "output_type": "stream",
          "text": [
            "Adı Soyadı:Zahide Cive\n"
          ]
        }
      ],
      "source": [
        "# Örnek uygulamayı çalıştır\n",
        "\n",
        "adSoyad= \"Zahide Cive\"\n",
        "print(\"Adı Soyadı:\" + adSoyad)"
      ]
    },
    {
      "cell_type": "markdown",
      "metadata": {
        "id": "szRkWMg9idf9"
      },
      "source": [
        "**Görev:** \"eposta\" adlı bir değişken oluşturun. Oluşturduğunuz bu değişkene bir e-posta adresi atayın. Daha sonra atadığınız bu değeri ekrana yazdırın. Örneğin: \"E-posta: orcun[at]madran.net\""
      ]
    },
    {
      "cell_type": "code",
      "execution_count": null,
      "metadata": {
        "colab": {
          "base_uri": "https://localhost:8080/"
        },
        "id": "RmIa5BJsZ2EI",
        "outputId": "143b5350-9ddd-4f4d-cec6-4f61932ef333"
      },
      "outputs": [
        {
          "name": "stdout",
          "output_type": "stream",
          "text": [
            "E-posta:zahidecive@gmail.com\n"
          ]
        }
      ],
      "source": [
        "# Ekrana e-posta yazdır\n",
        "ePosta= \"zahidecive@gmail.com\"\n",
        "print(\"E-posta:\" + ePosta)\n"
      ]
    },
    {
      "cell_type": "markdown",
      "metadata": {
        "id": "2irKEi_raxaB"
      },
      "source": [
        "## Değişken Tanımlama\n",
        "Değişken isimlerinde uyulması gereken bir takım kurallar vardır:\n",
        "\n",
        "\n",
        "*   Rakam ile başlayamaz.\n",
        "*   Boşluk kullanılamaz.\n",
        "*   Alt tire ( _ ) haricinde bir noktalama işareti kullanılamaz.\n",
        "*   Python içinde yerleşik olarak tanımlanmış anahtar kelimeler kullanılamaz (ör: print).\n",
        "*   Python 3. sürümden itibaren latin dışı karakter desteği olan \"Unicode\" desteği gelmiştir. Türkçe karakterler değişken isimlerinde kullanılabilir. \n",
        "\n",
        "**Dikkat:** Değişken isimleri büyük-küçük harfe duyarlıdır. Büyük harfle başlanan isimlendirmeler genelde *sınıflar* için kullanılır. Değişken isimlerinin daha anlaşılır olması için deve notasyonu (camelCase) ya da alt tire kullanımı tavsiye edilir.\n"
      ]
    },
    {
      "cell_type": "markdown",
      "metadata": {
        "id": "pOxCruNHdp9M"
      },
      "source": [
        "**Örnek Uygulama:**\n",
        "\n",
        "```\n",
        "degisken = 1\n",
        "kullaniciAdi = \"orcunmadran\"\n",
        "kul_ad = \"rafet\"\n",
        "```\n",
        "\n"
      ]
    },
    {
      "cell_type": "markdown",
      "metadata": {
        "id": "SVwQ0Tf-isfz"
      },
      "source": [
        "Henüz tanımlanmamış bir değişken kullanıldığında derleyicinin döndürdüğü hatayı kodu çalıştırarak gözlemleyin!"
      ]
    },
    {
      "cell_type": "code",
      "execution_count": null,
      "metadata": {
        "colab": {
          "base_uri": "https://localhost:8080/"
        },
        "id": "1W14OfkxeGuN",
        "outputId": "cf1b8112-6f12-40bc-836a-83f396429049"
      },
      "outputs": [
        {
          "name": "stdout",
          "output_type": "stream",
          "text": [
            "Veri\n"
          ]
        }
      ],
      "source": [
        "degisken1 = \"Veri\"\n",
        "print(degisken1)"
      ]
    },
    {
      "cell_type": "markdown",
      "metadata": {
        "id": "GwLgmn1fi04Q"
      },
      "source": [
        "**Görev:** Tanımladığınız değişkeni ekrana yazdırın!"
      ]
    },
    {
      "cell_type": "code",
      "execution_count": null,
      "metadata": {
        "colab": {
          "base_uri": "https://localhost:8080/"
        },
        "id": "JrNUlQAyeqHQ",
        "outputId": "8f318da4-d367-467a-9a55-0e19c7ff02b1"
      },
      "outputs": [
        {
          "name": "stdout",
          "output_type": "stream",
          "text": [
            "Yeni veri\n"
          ]
        }
      ],
      "source": [
        "degisken3 = 'Yeni veri'\n",
        "print(degisken3)"
      ]
    },
    {
      "cell_type": "markdown",
      "metadata": {
        "id": "_6eRj3kmeyGw"
      },
      "source": [
        "## Değişken Türleri\n",
        "Python'da iki ana sayı türü vardır; tam sayılar ve ondalık sayılar.\n",
        "\n",
        "**Dikkat:** Ondalık sayıların yazımında Türkçe'de *virgül* (,) kullanılmasına rağmen, programlama dillerinin evrensel yazım kuralları içerisinde ondalık sayılar *nokta* (.) ile ifade edilir."
      ]
    },
    {
      "cell_type": "markdown",
      "metadata": {
        "id": "37MxozrGf1-F"
      },
      "source": [
        "**Örnek Uygulama:**\n",
        "\n",
        "```\n",
        "tamSayi = 5\n",
        "print(type(tamSayi))   # tamSayi değişkeninin türünü yazdırır\n",
        "\n",
        "ondalikSayi = 7.4\n",
        "print(type(ondalikSayi) # ondalikSayi değişkeninin türünü yazdırır\n",
        "```"
      ]
    },
    {
      "cell_type": "code",
      "execution_count": null,
      "metadata": {
        "colab": {
          "base_uri": "https://localhost:8080/"
        },
        "id": "Vzg4x_inkN9h",
        "outputId": "31e31521-d403-44b4-f19a-f11b05f97ed9"
      },
      "outputs": [
        {
          "name": "stdout",
          "output_type": "stream",
          "text": [
            "<class 'int'>\n",
            "<class 'float'>\n"
          ]
        }
      ],
      "source": [
        "# Örnek uygulamayı çalıştır\n",
        "\n",
        "tamSayi = 5\n",
        "print(type(tamSayi))\n",
        "\n",
        "ondalikSayi = 7.4\n",
        "print(type(ondalikSayi))"
      ]
    },
    {
      "cell_type": "markdown",
      "metadata": {
        "id": "asiOZVmbn_TO"
      },
      "source": [
        "**Görev:** \"sayi\" değişkeninin türünü belirleyerek ekrana yazdırın!"
      ]
    },
    {
      "cell_type": "code",
      "execution_count": null,
      "metadata": {
        "cellView": "both",
        "colab": {
          "base_uri": "https://localhost:8080/"
        },
        "id": "UrGfF38CgjdQ",
        "outputId": "ce90fe74-8802-4d5c-97a0-6bdac5d726fd"
      },
      "outputs": [
        {
          "name": "stdout",
          "output_type": "stream",
          "text": [
            "<class 'int'>\n",
            "<class 'float'>\n"
          ]
        }
      ],
      "source": [
        "sayi = 9.0\n",
        "tamSayi=9\n",
        "print(type(tamSayi))\n",
        "ondalikSayi= 9.4\n",
        "print(type(ondalikSayi))\n"
      ]
    },
    {
      "cell_type": "markdown",
      "metadata": {
        "id": "i3Qht_zmjLf2"
      },
      "source": [
        "## Değişken Türü Dönüştürme\n",
        "Bir veri türünü diğerine dönüştürmenize izin veren birkaç yerleşik fonksiyon (built-in function) vardır. Bu fonksiyonlar (\"int()\", \"str()\", \"float()\") uygulandıkları değişkeni dönüştürerek yeni bir nesne döndürürler. "
      ]
    },
    {
      "cell_type": "markdown",
      "metadata": {
        "id": "F-Zp8zfmkzJX"
      },
      "source": [
        "**Örnek Uygulama**\n",
        "\n",
        "\n",
        "```\n",
        "sayi = 6.5\n",
        "print(type(sayi)) # \"sayi\" değişkeninin türünü ondalık olarak yazdırır\n",
        "print(sayi)\n",
        "\n",
        "sayi = int(sayi)  # Ondalık sayı olan \"sayi\" değişkenini tam sayıya dönüştürür\n",
        "print(type(sayi))\n",
        "print(sayi)\n",
        "\n",
        "sayi = float(sayi) # Tam sayı olan \"sayi\" değişkenini ondalık sayıya dönüştürür\n",
        "print(type(sayi))\n",
        "print(sayi)\n",
        "\n",
        "sayi = str(sayi) # \"sayi\" değişkeni artık düz metin halini almıştır\n",
        "print(type(sayi))\n",
        "print(sayi)\n",
        "```"
      ]
    },
    {
      "cell_type": "code",
      "execution_count": null,
      "metadata": {
        "colab": {
          "base_uri": "https://localhost:8080/"
        },
        "id": "G0bwb2rBkgVN",
        "outputId": "27969efe-b1ba-45f2-c212-5e56e7a00c72"
      },
      "outputs": [
        {
          "name": "stdout",
          "output_type": "stream",
          "text": [
            "<class 'float'>\n",
            "6.5\n",
            "<class 'int'>\n",
            "6\n",
            "<class 'float'>\n",
            "6.0\n",
            "<class 'str'>\n",
            "6.0\n"
          ]
        }
      ],
      "source": [
        "# Örnek uygulamayı çalıştır\n",
        "\n",
        "sayi = 6.5\n",
        "print(type(sayi))\n",
        "print(sayi)\n",
        " \n",
        "sayi = int(sayi)\n",
        "print(type(sayi))\n",
        "print(sayi)\n",
        " \n",
        "sayi = float(sayi)\n",
        "print(type(sayi))\n",
        "print(sayi)\n",
        " \n",
        "sayi = str(sayi)\n",
        "print(type(sayi))\n",
        "print(sayi)"
      ]
    },
    {
      "cell_type": "markdown",
      "metadata": {
        "id": "7j51gKaIlM-u"
      },
      "source": [
        "**Görev:** Ondalık sayıyı tam sayıya dönüştürün ve ekrana değişken türünü ve değeri yazdırın!"
      ]
    },
    {
      "cell_type": "code",
      "execution_count": null,
      "metadata": {
        "colab": {
          "base_uri": "https://localhost:8080/"
        },
        "id": "o9ZQ6Jr3lL6A",
        "outputId": "02de10a1-925f-4a78-f2d0-a688a1c0bb8d"
      },
      "outputs": [
        {
          "name": "stdout",
          "output_type": "stream",
          "text": [
            "<class 'float'>\n",
            "3.14\n",
            "<class 'int'>\n",
            "3\n",
            "<class 'float'>\n",
            "3.0\n",
            "<class 'str'>\n",
            "3.0\n"
          ]
        }
      ],
      "source": [
        "sayi = 3.14\n",
        "print(type(sayi))\n",
        "print(sayi)\n",
        "sayi=int(sayi)\n",
        "print(type(sayi))\n",
        "print(sayi)\n",
        "sayi=float(sayi)\n",
        "print(type(sayi))\n",
        "print(sayi)\n",
        "sayi=str(sayi)\n",
        "print(type(sayi))\n",
        "print(sayi)\n"
      ]
    },
    {
      "cell_type": "markdown",
      "metadata": {
        "id": "f5MK6vZOl6dG"
      },
      "source": [
        "## Aritmetik Operatörler\n",
        "Diğer tüm programlama dillerinde olduğu gibi, toplama (+), çıkarma (-), çarpma (yıldız) ve bölme (/) operatörleri sayılarla kullanılabilir. Bunlarla birlikte Python'un üs (çift yıldız) ve mod (%) operatörleri vardır.\n",
        "\n",
        "**Dikkat:** Matematik işlemlerinde geçerli olan aritmetik operatörlerin öncelik sıralamaları (çarpma, bölme, toplama, çıkarma) ve parantezlerin önceliği kuralları Python içindeki matematiksel işlemler için de geçerlidir. \n"
      ]
    },
    {
      "cell_type": "markdown",
      "metadata": {
        "id": "1THb0XpGmwSD"
      },
      "source": [
        "**Örnek Uygulama:**\n",
        "\n",
        "```\n",
        "# Toplama işlemi\n",
        "sayi = 7.0\n",
        "sonuc = sayi + 3.5\n",
        "print(sonuc)\n",
        "\n",
        "# Çıkarma işlemi\n",
        "sayi = 200\n",
        "sonuc = sayi - 35\n",
        "print(sonuc)\n",
        "\n",
        "# Çarpma işlemi\n",
        "sayi = 44\n",
        "sonuc = sayi * 10\n",
        "print(sonuc)\n",
        "\n",
        "# Bölme işlemi\n",
        "sayi = 30\n",
        "sonuc = sayi / 3\n",
        "print(sonuc)\n",
        "\n",
        "# Üs alma işlemi\n",
        "sayi = 30\n",
        "sonuc = sayi ** 3\n",
        "print(sonuc)\n",
        "\n",
        "# Mod alma işlemi \n",
        "sayi = 35\n",
        "sonuc = sayi % 4\n",
        "print(sonuc)\n",
        "```"
      ]
    },
    {
      "cell_type": "code",
      "execution_count": null,
      "metadata": {
        "colab": {
          "base_uri": "https://localhost:8080/"
        },
        "id": "zdOXer1klJVQ",
        "outputId": "2bd34b01-e285-4406-8b73-669d1d6f7ab3"
      },
      "outputs": [
        {
          "name": "stdout",
          "output_type": "stream",
          "text": [
            "10.5\n",
            "165\n",
            "440\n",
            "10.0\n",
            "27000\n",
            "3\n"
          ]
        }
      ],
      "source": [
        "# Örnek uygulamayı çalıştır\n",
        "\n",
        "# Toplama işlemi\n",
        "sayi = 7.0\n",
        "sonuc = sayi + 3.5\n",
        "print(sonuc)\n",
        " \n",
        "# Çıkarma işlemi\n",
        "sayi = 200\n",
        "sonuc = sayi - 35\n",
        "print(sonuc)\n",
        " \n",
        "# Çarpma işlemi\n",
        "sayi = 44\n",
        "sonuc = sayi * 10\n",
        "print(sonuc)\n",
        " \n",
        "# Bölme işlemi\n",
        "sayi = 30\n",
        "sonuc = sayi / 3\n",
        "print(sonuc)\n",
        " \n",
        "# Üs alma işlemi\n",
        "sayi = 30\n",
        "sonuc = sayi ** 3\n",
        "print(sonuc)\n",
        " \n",
        "# Mod alma işlemi \n",
        "sayi = 35\n",
        "sonuc = sayi % 4\n",
        "print(sonuc)"
      ]
    },
    {
      "cell_type": "markdown",
      "metadata": {
        "id": "jp3PvDghnJkY"
      },
      "source": [
        "**Görev:** Aşağıda değer atamaları tamamlanmış olan değişkenleri kullanarak ürünlerin peşin satın alınma bedelini TL olarak hesaplayınız ve ürün adı ile birlikte ekrana yazdırınız! İpucu: Ürün adını ve ürün bedelini tek bir satırda yazdırmak isterseniz ürün bedelini str() fonksiyonu ile düz metin değişken türüne çevirmeniz gerekir. "
      ]
    },
    {
      "cell_type": "code",
      "execution_count": null,
      "metadata": {
        "colab": {
          "base_uri": "https://localhost:8080/"
        },
        "id": "oMY_MZjmndQj",
        "outputId": "9f85b4e2-a76f-4ddd-86ff-57131baf46f9"
      },
      "outputs": [
        {
          "name": "stdout",
          "output_type": "stream",
          "text": [
            "283.3333333333333\n",
            "1981\n",
            "1131\n",
            "Bisiklet:1131\n"
          ]
        }
      ],
      "source": [
        "urunAdi = \"Bisiklet\"\n",
        "urunBedeliAvro = 850\n",
        "pariteAvroTL = 7\n",
        "urunAdet = 3\n",
        "pesinAdetIndirimTL = 500\n",
        "sayi=850\n",
        "sonuc= sayi/3\n",
        "print(sonuc)\n",
        "sayi=283\n",
        "sonuc= sayi*7\n",
        "print(sonuc)\n",
        "sayi=1981\n",
        "sonuc=sayi-850\n",
        "print(sonuc)\n",
        "sayi=1131\n",
        "print(\"Bisiklet:\" +str(sayi))"
      ]
    },
    {
      "cell_type": "markdown",
      "metadata": {
        "id": "OUWeht_8nyCx"
      },
      "source": [
        "## Artırılmış Atama Operatörleri\n",
        "Artırılmış atama, bir değişkenin mevcut değerine belirlenen değerin eklenerek ( += ) ya da çıkartılarak ( -= ) atanması işlemidir. \n"
      ]
    },
    {
      "cell_type": "markdown",
      "metadata": {
        "id": "r-6ImrKCobv_"
      },
      "source": [
        "**Örnek Uygulama**\n",
        "\n",
        "```\n",
        "sayi = 8\n",
        "sayi += 4  # Mevcut değer olan 8'e 4 daha ekler.\n",
        "print(sayi) \n",
        "\n",
        "sayi -= 6 # Mevcut değer olan 12'den 6 eksiltir.\n",
        "print(\"Sayı = \" + str(sayi))\n",
        "```\n",
        "\n"
      ]
    },
    {
      "cell_type": "code",
      "execution_count": null,
      "metadata": {
        "colab": {
          "base_uri": "https://localhost:8080/"
        },
        "id": "p281janglpzz",
        "outputId": "5db273fa-e5c9-4358-b143-e8dcf6985935"
      },
      "outputs": [
        {
          "name": "stdout",
          "output_type": "stream",
          "text": [
            "12\n",
            "Sayı = 6\n"
          ]
        }
      ],
      "source": [
        "# Örnek uygulama çalıştır\n",
        "\n",
        "sayi = 8\n",
        "sayi += 4\n",
        "print(sayi) \n",
        " \n",
        "sayi -= 6 \n",
        "print(\"Sayı = \" + str(sayi))"
      ]
    },
    {
      "cell_type": "markdown",
      "metadata": {
        "id": "Du5w88EaovzQ"
      },
      "source": [
        "**Görev:** Artıtılmış atama operatörleri kullanarak \"sayi\" değişkenine 20 ekleyip, 10 çıkartarak değişkenin güncel değerini ekrana yazdırın! "
      ]
    },
    {
      "cell_type": "code",
      "execution_count": null,
      "metadata": {
        "colab": {
          "base_uri": "https://localhost:8080/"
        },
        "id": "ro0-FwgDpCkx",
        "outputId": "bfc86385-eca8-4da7-be46-6e26574b2fe7"
      },
      "outputs": [
        {
          "name": "stdout",
          "output_type": "stream",
          "text": [
            "75\n",
            "Sayı:65\n"
          ]
        }
      ],
      "source": [
        "sayi = 55\n",
        "sayi+=20\n",
        "print(sayi)\n",
        "sayi-=10\n",
        "print(\"Sayı:\" +str(sayi))\n"
      ]
    },
    {
      "cell_type": "markdown",
      "metadata": {
        "id": "C0G673j0pQD4"
      },
      "source": [
        "## Boolean Operatörleri\n",
        "Boolean, yalnızca **Doğru (True)** veya **Yanlış (False)** olabilen bir değer türüdür. Eşitlik (==) operatörleri karşılaştırılan iki değişkenin eşit olup olmadığını kontrol eder ve *True* ya da *False* değeri döndürür."
      ]
    },
    {
      "cell_type": "markdown",
      "metadata": {
        "id": "Trd3P6X4pwbu"
      },
      "source": [
        "**Örnek Uygulama:**\n",
        "\n",
        "```\n",
        "deger1 = 10\n",
        "deger2 = 10\n",
        "esitMi = (deger1 == deger2) # Eşit olup olmadıkları kontrol ediliyor\n",
        "print(esitMi) # Değişken \"True\" olarak dönüyor\n",
        "\n",
        "deger1 = \"Python\"\n",
        "deger2 = \"Piton\"\n",
        "esitMi = (deger1 == deger2) # Eşit olup olmadıkları kontrol ediliyor\n",
        "print(esitMi) # Değişken \"False\" olarak dönüyor\n",
        "```"
      ]
    },
    {
      "cell_type": "code",
      "execution_count": null,
      "metadata": {
        "colab": {
          "base_uri": "https://localhost:8080/"
        },
        "id": "COYD_DtlmXgr",
        "outputId": "8e9e1dcd-7691-4483-91c7-26ab662773fc"
      },
      "outputs": [
        {
          "name": "stdout",
          "output_type": "stream",
          "text": [
            "True\n",
            "False\n"
          ]
        }
      ],
      "source": [
        "# Örnek uygulama çalıştır\n",
        "\n",
        "deger1 = 10\n",
        "deger2 = 10\n",
        "esitMi = (deger1 == deger2) \n",
        "print(esitMi) \n",
        " \n",
        "deger1 = \"Python\"\n",
        "deger2 = \"Piton\"\n",
        "esitMi = (deger1 == deger2)\n",
        "print(esitMi)"
      ]
    },
    {
      "cell_type": "markdown",
      "metadata": {
        "id": "QSvUSLN4p7Ra"
      },
      "source": [
        "**Görev:** Atamaları yapılmış olan değişkenler arasındaki eşitliği kontrol edin ve sonucu ekrana yazıdırın!"
      ]
    },
    {
      "cell_type": "code",
      "execution_count": null,
      "metadata": {
        "colab": {
          "base_uri": "https://localhost:8080/"
        },
        "id": "ihVP2eQpttpv",
        "outputId": "9847e4a3-6a5e-4af9-cc72-8dc16712b665"
      },
      "outputs": [
        {
          "name": "stdout",
          "output_type": "stream",
          "text": [
            "False\n"
          ]
        }
      ],
      "source": [
        "sifre = \"Python2020\"\n",
        "sifreTekrar = \"Piton2020\"\n",
        "deger1=sifre\n",
        "değer2=sifreTekrar\n",
        "esitMi= (deger1 == deger2)\n",
        "print(esitMi)"
      ]
    },
    {
      "cell_type": "markdown",
      "metadata": {
        "id": "NU2bhXlwuUtj"
      },
      "source": [
        "## Karşılaştırma Operatörleri\n",
        "Python'da, >=, <= , >, < vb. dahil olmak üzere birçok operatör bulunmaktadır. Python'daki tüm karşılaştırma operatörleri aynı önceliğe sahiptir. Karşılaştırma sonucunda boole değerleri (*True* ya da *False*) döner. Karşılaştırma operatörleri isteğe bağlı olarak arka arkaya da (zincirlenerek) kullanılabilir."
      ]
    },
    {
      "cell_type": "markdown",
      "metadata": {
        "id": "kUkH4Qe6vBIm"
      },
      "source": [
        "**Örnek Uygulama:**\n",
        "\n",
        "```\n",
        "deger1 = 5\n",
        "deger2 = 7\n",
        "deger3 = 9\n",
        "\n",
        "print(deger1 < deger2 < deger3)  # Sonuç \"True\" olarak dönecektir\n",
        "```\n",
        "\n"
      ]
    },
    {
      "cell_type": "code",
      "execution_count": null,
      "metadata": {
        "colab": {
          "base_uri": "https://localhost:8080/"
        },
        "id": "NXpmIY32mwsY",
        "outputId": "290698a2-e1b4-48d0-e8a9-486592901f7b"
      },
      "outputs": [
        {
          "name": "stdout",
          "output_type": "stream",
          "text": [
            "True\n"
          ]
        }
      ],
      "source": [
        "# Örnek uygulama çalıştır\n",
        "\n",
        "deger1 = 5\n",
        "deger2 = 7\n",
        "deger3 = 9\n",
        " \n",
        "print(deger1 < deger2 < deger3)"
      ]
    },
    {
      "cell_type": "markdown",
      "metadata": {
        "id": "JrbnTUNavEsJ"
      },
      "source": [
        "**Görev:** Aşağıda değer atamaları tamamlanmış olan değişkenleri kullanarak ürünlerin peşin satın alınma bedelini TL olarak hesaplayın. Toplam satın alma bedeli ile bütçenizi karşılaştırın. Satın alma bedelini ve bütçenizi ekrana yazdırın. Ödeme bütçenizi aşıyorsa ekrana \"False\", aşmıyorsa \"True\" yazdırın.  "
      ]
    },
    {
      "cell_type": "code",
      "execution_count": null,
      "metadata": {
        "colab": {
          "base_uri": "https://localhost:8080/"
        },
        "id": "chsHnUn9vWDA",
        "outputId": "c0894601-b349-4d8a-cedf-dd36dcff7024"
      },
      "outputs": [
        {
          "name": "stdout",
          "output_type": "stream",
          "text": [
            "283.3333333333333\n",
            "1981\n",
            "1481\n",
            "True\n"
          ]
        }
      ],
      "source": [
        "urunAdi = \"Bisiklet\"\n",
        "urunBedeliAvro = 850\n",
        "kurAvro = 7\n",
        "urunAdet = 3\n",
        "pesinAdetIndirimTL = 500\n",
        "butce = 15000\n",
        "sayi=850\n",
        "sonuc=sayi/3\n",
        "print(sonuc)\n",
        "sayi=283 \n",
        "sonuc=sayi*7\n",
        "print(sonuc)\n",
        "sayi=1981\n",
        "sonuc=sayi-500\n",
        "print(sonuc)\n",
        "deger1=1481\n",
        "deger2=15000\n",
        "print(deger2>deger1) \n"
      ]
    },
    {
      "cell_type": "markdown",
      "metadata": {
        "id": "qhLUJ8wJM79g"
      },
      "source": [
        "# Bölüm 03: Metin Katarları\n",
        "\n",
        "Bu bölümde:\n",
        "\n",
        "*   Birbirine bağlama,\n",
        "*   Metin katarı çarpımı,\n",
        "*   Metin katarı dizinleme,\n",
        "*   Metin katarı negatif dizinleme,\n",
        "*   Metin katarı dilimleme,\n",
        "*   In operatörü,\n",
        "*   Metin katarının uzunluğu,\n",
        "*   Özel karakterlerden kaçma,\n",
        "*   Basit metin katarı metodları,\n",
        "*   Metin katarı biçimlendirme yer almaktadır."
      ]
    },
    {
      "cell_type": "markdown",
      "metadata": {
        "id": "9UNmx1IUNSrB"
      },
      "source": [
        "## Birbirine Bağlama\n",
        "Birbirine bağlama artı (+) işlemini kullanarak iki metin katarının birleştirilmesi işlemine denir."
      ]
    },
    {
      "cell_type": "markdown",
      "metadata": {
        "id": "1CkYIUTqNhSR"
      },
      "source": [
        "**Örnek Uygulama**\n",
        "\n",
        "```\n",
        "deger1 = \"Merhaba\"\n",
        "deger2 = \"Dünya\"\n",
        "\n",
        "selamlama = deger1 + \" \" + deger2\n",
        "print(selamlama)      # Çıktı: Merhaba Dünya\n",
        "```\n",
        "\n"
      ]
    },
    {
      "cell_type": "code",
      "execution_count": null,
      "metadata": {
        "colab": {
          "base_uri": "https://localhost:8080/"
        },
        "id": "-kLiOIo7Ku-F",
        "outputId": "14c44839-d717-475f-c7af-03e008d9aabe"
      },
      "outputs": [
        {
          "name": "stdout",
          "output_type": "stream",
          "text": [
            "Merhaba Dünya\n"
          ]
        }
      ],
      "source": [
        "# Örnek uygulamayı çalışıtır\n",
        "\n",
        "deger1 = \"Merhaba\"\n",
        "deger2 = \"Dünya\"\n",
        "\n",
        "selamlama = deger1 + \" \" + deger2\n",
        "print(selamlama)"
      ]
    },
    {
      "cell_type": "markdown",
      "metadata": {
        "id": "n9rA4HAHNqI7"
      },
      "source": [
        "**Görev:** *ad*, *soyad* ve *hitap* değişkenlerini tek bir çıktıda birleştirecek kodu yazın! "
      ]
    },
    {
      "cell_type": "code",
      "execution_count": null,
      "metadata": {
        "colab": {
          "base_uri": "https://localhost:8080/"
        },
        "id": "xyNs9VEFOHJc",
        "outputId": "3644bde5-04ee-4aeb-c933-6cfb898d4811"
      },
      "outputs": [
        {
          "name": "stdout",
          "output_type": "stream",
          "text": [
            "Öğr. Gör. Orçun Madran\n"
          ]
        }
      ],
      "source": [
        "hitap = \"Öğr. Gör.\"\n",
        "ad = \"Orçun\"\n",
        "soyad = \"Madran\"\n",
        "deger1= hitap\n",
        "deger2= ad\n",
        "deger3= soyad\n",
        "tanıtma=deger1 + \" \" + deger2 + \" \" + deger3\n",
        "print(tanıtma)\n",
        "\n",
        "# Çıktı: Öğr. Gör. Orçun Madran"
      ]
    },
    {
      "cell_type": "markdown",
      "metadata": {
        "id": "ipcnECBCOKWX"
      },
      "source": [
        "## Metin Katarı Çarpımı\n",
        "Python, metin katarlarının çarpım sayısı kadar tekrar ettirilmesini desteklemektedir."
      ]
    },
    {
      "cell_type": "markdown",
      "metadata": {
        "id": "HXxuq9kMO2xm"
      },
      "source": [
        "**Örnek Uygulama**\n",
        "\n",
        "```\n",
        "metin = \"Hadi! \"\n",
        "metniCarp = metin * 4\n",
        "print(metniCarp) # Çıktı: Hadi! Hadi! Hadi! Hadi! \n",
        "```\n",
        "\n"
      ]
    },
    {
      "cell_type": "code",
      "execution_count": null,
      "metadata": {
        "colab": {
          "base_uri": "https://localhost:8080/"
        },
        "id": "12AYvND7LYwN",
        "outputId": "5c85cb82-6392-4c28-af9f-2c012e5db891"
      },
      "outputs": [
        {
          "name": "stdout",
          "output_type": "stream",
          "text": [
            "Hadi! Hadi! Hadi! Hadi! \n"
          ]
        }
      ],
      "source": [
        "# Örnek uygulamayı çalıştır\n",
        "\n",
        "metin = \"Hadi! \"\n",
        "metniCarp = metin * 4\n",
        "print(metniCarp)"
      ]
    },
    {
      "cell_type": "markdown",
      "metadata": {
        "id": "56NercDUOh8x"
      },
      "source": [
        "**Görev:** Sizi sürekli bekleten arkadaşınızı uyarabilmek için istediğiniz sayıda \"Hadi!\" kelimesini ekrana yazdırın!"
      ]
    },
    {
      "cell_type": "code",
      "execution_count": null,
      "metadata": {
        "colab": {
          "base_uri": "https://localhost:8080/"
        },
        "id": "j_CdqS1bPHAb",
        "outputId": "4bf58261-1fbe-4f05-f6f6-536ad7625e96"
      },
      "outputs": [
        {
          "name": "stdout",
          "output_type": "stream",
          "text": [
            "Hadi! Hadi! Hadi! Hadi! Hadi! Hadi! Hadi! Hadi! \n"
          ]
        }
      ],
      "source": [
        "metin = \"Hadi! \"\n",
        "metniCarp= metin * 8\n",
        "print(metniCarp)\n",
        "\n",
        "# Çıktı: Hadi! Hadi! Hadi! Hadi! ... Hadi!"
      ]
    },
    {
      "cell_type": "markdown",
      "metadata": {
        "id": "Xo6sOrv-PpgY"
      },
      "source": [
        "##Metin Katarı Dizinleme\n",
        "Konumu biliniyorsa, bir metin katarındaki ilgili karaktere erişilebilir. Örneğin; str[index] metin katarındaki indeks numarasının karşılık geldiği karakteri geri döndürecektir. İndekslerin her zaman 0'dan başladığı unutulmamalıdır. İndeksler, sağdan saymaya başlamak için negatif sayılar da olabilir. -0, 0 ile aynı olduğundan, negatif indeksler -1 ile başlar."
      ]
    },
    {
      "cell_type": "markdown",
      "metadata": {
        "id": "VV71MAQFQaPs"
      },
      "source": [
        "**Örnek Uygulama**\n",
        "\n",
        "```\n",
        "metin = \"Python Programlama Dili\"\n",
        "print(\"'h' harfini yakala: \" + metin[3]) # Çıktı: 'h' harfini yakala: h\"\n",
        "```\n"
      ]
    },
    {
      "cell_type": "code",
      "execution_count": null,
      "metadata": {
        "colab": {
          "base_uri": "https://localhost:8080/"
        },
        "id": "S7c1TXGlL3XI",
        "outputId": "971b3917-793b-404d-c5d1-324dbad3bb24"
      },
      "outputs": [
        {
          "name": "stdout",
          "output_type": "stream",
          "text": [
            "'h' harfini yakala: h\n"
          ]
        }
      ],
      "source": [
        "# örnek uygulama çalıştır\n",
        "\n",
        "metin = \"Python Programlama Dili\"\n",
        "print(\"'h' harfini yakala: \" + metin[3])"
      ]
    },
    {
      "cell_type": "markdown",
      "metadata": {
        "id": "55Lviae-QTax"
      },
      "source": [
        "**Görev:** İndeks numarasını kullanarak metin katarındaki ikinci \"P\" harfini ekrana yazdırın!\n"
      ]
    },
    {
      "cell_type": "code",
      "execution_count": null,
      "metadata": {
        "colab": {
          "base_uri": "https://localhost:8080/"
        },
        "id": "dHJ48v5WQe4c",
        "outputId": "3a11c4c6-82a0-4e2b-a2cb-557477537621"
      },
      "outputs": [
        {
          "name": "stdout",
          "output_type": "stream",
          "text": [
            " 'P' harfini yakala: P\n"
          ]
        }
      ],
      "source": [
        "metin = \"Python Programlama Dili\"\n",
        "print(\" 'P' harfini yakala: \" + metin[7])\n",
        "\n",
        "# Çıktı: P"
      ]
    },
    {
      "cell_type": "markdown",
      "metadata": {
        "id": "op2D6v9xQsRe"
      },
      "source": [
        "## Metin Katarı Negatif Dizinleme\n",
        "Metin katarının sonlarında yer alan bir karaktere daha rahat erişebilmek için indeks numarası negatif bir değer olarak belirlenebilir."
      ]
    },
    {
      "cell_type": "markdown",
      "metadata": {
        "id": "kZTrtqD6RM7j"
      },
      "source": [
        "**Örnek Uygulama**\n",
        "\n",
        "```\n",
        "metin = \"Python Programlama Dili\"\n",
        "dHarfi = metin[-4]\n",
        "print(dHarfi) # Çıktı: D\n",
        "```\n",
        "\n"
      ]
    },
    {
      "cell_type": "code",
      "execution_count": null,
      "metadata": {
        "colab": {
          "base_uri": "https://localhost:8080/"
        },
        "id": "_iG5JXqmM96K",
        "outputId": "28bc733a-0316-4532-9552-6b08733d76b5"
      },
      "outputs": [
        {
          "name": "stdout",
          "output_type": "stream",
          "text": [
            "D\n"
          ]
        }
      ],
      "source": [
        "# Örnek uygulama çalıştır\n",
        "\n",
        "metin = \"Python Programlama Dili\"\n",
        "dHarfi = metin[-4]\n",
        "print(dHarfi)"
      ]
    },
    {
      "cell_type": "markdown",
      "metadata": {
        "id": "ZM6vbbChQ_4R"
      },
      "source": [
        "**Görev:** Metin katarının sonunda yer alan \"i\" harfini ekrana yazdırın!"
      ]
    },
    {
      "cell_type": "code",
      "execution_count": null,
      "metadata": {
        "colab": {
          "base_uri": "https://localhost:8080/"
        },
        "id": "d49Cfw-FRJMT",
        "outputId": "a5b7d2b4-e8bf-4bd3-81a1-596c421fd3ef"
      },
      "outputs": [
        {
          "name": "stdout",
          "output_type": "stream",
          "text": [
            "i\n"
          ]
        }
      ],
      "source": [
        "metin = \"Python Programlama Dili\"\n",
        "iHarfi = metin[-1]\n",
        "print(iHarfi)\n",
        "\n",
        "#Çıktı: i"
      ]
    },
    {
      "cell_type": "markdown",
      "metadata": {
        "id": "xPgrx41FRbrw"
      },
      "source": [
        "##Metin Katarı Dilimleme\n",
        "Dilimleme, bir metin katarından birden çok karakter (bir alt katar oluşturmak) almak için kullanılır. Söz dizimi indeks numarası ile bir karaktere erişmeye benzer, ancak iki nokta üst üste işaretiyle ayrılmış iki indeks numarası kullanılır. Ör: str[ind1:ind2].\n",
        "\n",
        "Noktalı virgülün solundaki indeks numarası belirlenmezse ilk karakterden itibaren (ilk karakter dahil) seçimin yapılacağı anlamına gelir. Ör: str[:ind2]\n",
        "\n",
        "Noktalı virgülün sağındaki indeks numarası belirlenmezse son karaktere kadar (son karakter dahil) seçimin yapılacağı anlamına gelir. Ör: str[ind1:]"
      ]
    },
    {
      "cell_type": "markdown",
      "metadata": {
        "id": "X_MHtUgUSFpY"
      },
      "source": [
        "**Örnek Uygulama**\n",
        "\n",
        "```\n",
        "metin = \"Python Programlama Dili\"\n",
        "dilimle = metin[:6]      \n",
        "print(dilimle) # Çıktı: Python\n",
        "\n",
        "metin = \"Python Programlama Dili\" \n",
        "print(metin[7:]) # Çıktı: Programlama Dili\n",
        "\n",
        "```\n",
        "\n"
      ]
    },
    {
      "cell_type": "code",
      "execution_count": null,
      "metadata": {
        "colab": {
          "base_uri": "https://localhost:8080/"
        },
        "id": "UDTKDiPeNh_a",
        "outputId": "8b9e2ba9-31ad-46f1-f05c-d26ed6e53d63"
      },
      "outputs": [
        {
          "name": "stdout",
          "output_type": "stream",
          "text": [
            "Python\n",
            "Programlama Dili\n"
          ]
        }
      ],
      "source": [
        "# Örnek uygulama çalıştır\n",
        "\n",
        "metin = \"Python Programlama Dili\"\n",
        "dilimle = metin[:6]      \n",
        "print(dilimle)\n",
        "\n",
        "metin = \"Python Programlama Dili\" \n",
        "print(metin[7:])"
      ]
    },
    {
      "cell_type": "markdown",
      "metadata": {
        "id": "SjPJOtqUR7rT"
      },
      "source": [
        "**Görev:** Metin katarını dilemleyerek katarda yer alan üç kelimeyi de ayrı ayrı (alt alta) ekrana yazdırın!."
      ]
    },
    {
      "cell_type": "code",
      "execution_count": null,
      "metadata": {
        "colab": {
          "base_uri": "https://localhost:8080/"
        },
        "id": "bHxs-WnaSKie",
        "outputId": "cab8e9c0-66dd-4a22-c2fd-6ade7e2aa94a"
      },
      "outputs": [
        {
          "name": "stdout",
          "output_type": "stream",
          "text": [
            "Python\n",
            " Dili\n",
            " Programlama\n"
          ]
        }
      ],
      "source": [
        "metin = \"Python Programlama Dili\" \n",
        "dilimle = metin[:6]\n",
        "print(dilimle)\n",
        "metin = \"Pyhton Programlama Dili\"\n",
        "dilimle = metin [18:]\n",
        "print(dilimle)\n",
        "metin = \"Python Programlama Dili\"\n",
        "dilimle = metin [6:18]\n",
        "print(dilimle) \n",
        "\n",
        "# Çıktı:\n",
        "# Python\n",
        "# Programlama\n",
        "# Dili"
      ]
    },
    {
      "cell_type": "markdown",
      "metadata": {
        "id": "aIfLylzcShEG"
      },
      "source": [
        "##In Operatörü\n",
        "Bir metin katarının belirli bir harf ya da bir alt katar içerip içermediğini kontrol etmek için, in anahtar sözcüğü kullanılır."
      ]
    },
    {
      "cell_type": "markdown",
      "metadata": {
        "id": "pZZxStolS-Rg"
      },
      "source": [
        "**Örnek Uygulama**\n",
        "\n",
        "```\n",
        "metin = \"Python Programlama Dili\"\n",
        "print(\"Programlama\" in metin)    # Çıktı: True\n",
        "```\n",
        "\n"
      ]
    },
    {
      "cell_type": "markdown",
      "metadata": {
        "id": "551pDT0YS14M"
      },
      "source": [
        "**Görev:** Metin katarında \"Python\" kelimesinin geçip geçmediğini kontrol ederek ekrana yazdırın!"
      ]
    },
    {
      "cell_type": "code",
      "execution_count": null,
      "metadata": {
        "colab": {
          "base_uri": "https://localhost:8080/"
        },
        "id": "2CpxVwHMTENL",
        "outputId": "82b3df92-85d1-481c-bc51-6ac06e76ff6d"
      },
      "outputs": [
        {
          "name": "stdout",
          "output_type": "stream",
          "text": [
            "True\n",
            "True\n"
          ]
        }
      ],
      "source": [
        "metin = \"Python Programlama Dili\"\n",
        "print(\"Python\" in metin)\n",
        "metin = \"Pyhthon Programlama Dili\"\n",
        "print(\"D\" in metin)"
      ]
    },
    {
      "cell_type": "markdown",
      "metadata": {
        "id": "mKLQLw8_TJyz"
      },
      "source": [
        "##Metin Katarının Uzunluğu\n",
        "Bir metin katarının kaç karakter içerdiğini saymak için len() yerleşik fonksiyonu kullanılır. "
      ]
    },
    {
      "cell_type": "markdown",
      "metadata": {
        "id": "aa4IkB7CTuyr"
      },
      "source": [
        "**Örnek Uygulama**\n",
        "\n",
        "```\n",
        "metin = \"Python programlama dili\"\n",
        "print(len(metin)) # Çıktı: 23\n",
        "```\n",
        "\n"
      ]
    },
    {
      "cell_type": "code",
      "execution_count": null,
      "metadata": {
        "colab": {
          "base_uri": "https://localhost:8080/"
        },
        "id": "dOa6Pu2CPpW7",
        "outputId": "3a460975-32b6-4943-81ab-fbcd3d316d4a"
      },
      "outputs": [
        {
          "name": "stdout",
          "output_type": "stream",
          "text": [
            "23\n"
          ]
        }
      ],
      "source": [
        "# Örnek uygulamayı çalıştır\n",
        "\n",
        "metin = \"Python programlama dili\"\n",
        "print(len(metin)) "
      ]
    },
    {
      "cell_type": "markdown",
      "metadata": {
        "id": "BF5DPvyuTa4R"
      },
      "source": [
        "**Görev:** Metin katarındaki cümlenin ilk yarısını ekrana yazdırın! Yazılan kod cümlenin uzunluğundan bağımsız olarak cümleyi ikiye bölmelidir."
      ]
    },
    {
      "cell_type": "code",
      "execution_count": null,
      "metadata": {
        "colab": {
          "base_uri": "https://localhost:8080/"
        },
        "id": "Uvnr2f1XT05N",
        "outputId": "cb4fa4f4-dade-4849-b5f6-be965285ce7f"
      },
      "outputs": [
        {
          "name": "stdout",
          "output_type": "stream",
          "text": [
            "104\n",
            "52.0\n",
            "Python programlama dili, dünyada eğitim amacıyla en \n"
          ]
        }
      ],
      "source": [
        "metin = \"Python programlama dili, dünyada eğitim amacıyla en çok kullanılan programlama dillerinin başında gelir.\"\n",
        "print(len(metin))\n",
        "sayi=104\n",
        "sonuc= sayi/2\n",
        "print(sonuc)\n",
        "dilimle= metin [:52]\n",
        "print(dilimle)\n",
        "\n",
        "# Çıktı: Python programlama dili, dünyada eğitim amacıyla en"
      ]
    },
    {
      "cell_type": "markdown",
      "metadata": {
        "id": "T_u1X0aKVAO2"
      },
      "source": [
        "## Özel Karakterlerden Kaçma\n",
        "Metin katarları içerisinde tek ve çift tırnak kullanımı kimi zaman sorunlara yol açmaktadır. Bu karakterin metin katarları içerisinde kullanılabilmesi için \"Ters Eğik Çizgi\" ile birlikte kullanılırlar. \n",
        "\n",
        "Örneğin: 'Önümüzdeki ay \"Ankara'da Python Eğitimi\" gerçekleştirilecek' cümlesindeki tek tırnak kullanımı soruna yol açacağından 'Önümüzdeki ay \"Ankara\\'da Python Eğitimi\" gerçekleştirilecek' şeklinde kullanılmalıdır.\n",
        "\n",
        "**İpucu:** Tek tırnaklı metin katarlarından kaçmak için çift tırnak ya da tam tersi kullanılabilir."
      ]
    },
    {
      "cell_type": "markdown",
      "metadata": {
        "id": "bJX6J5bvVbZa"
      },
      "source": [
        "**Örnek Uygulama**\n",
        "\n",
        "```\n",
        "metin = 'Önümüzdeki ay \"Ankara\\'da Python Eğitimi\" gerçekleştirilecektir.'\n",
        "print(metin) #Çıktı: Önümüzdeki ay \"Ankara'da Python Eğitimi\" gerçekleştirilecektir.\n",
        "\n",
        "metin = 'Önümüzdeki ay \"Ankara'da Python Eğitimi\" gerçekleştirilecektir.'\n",
        "print(metin) # Çıktı: Geçersiz söz dizimi hatası dönecektir. \n",
        "```\n",
        "\n"
      ]
    },
    {
      "cell_type": "code",
      "execution_count": null,
      "metadata": {
        "colab": {
          "base_uri": "https://localhost:8080/"
        },
        "id": "GopY-yJSQ8Z_",
        "outputId": "8cc108e8-776d-414b-b2b5-d981bd5ad62d"
      },
      "outputs": [
        {
          "name": "stdout",
          "output_type": "stream",
          "text": [
            "Önümüzdeki ay \"Ankara'da Python Eğitimi\" gerçekleştirilecektir.\n"
          ]
        }
      ],
      "source": [
        "# Örnek uygulamayı çalıştır\n",
        "\n",
        "metin = 'Önümüzdeki ay \"Ankara\\'da Python Eğitimi\" gerçekleştirilecektir.'\n",
        "print(metin)"
      ]
    },
    {
      "cell_type": "code",
      "execution_count": null,
      "metadata": {
        "colab": {
          "base_uri": "https://localhost:8080/",
          "height": 131
        },
        "id": "a0TZUON2Qd2X",
        "outputId": "da6b5917-2e46-48f1-bda5-f44f1da2b795"
      },
      "outputs": [
        {
          "ename": "SyntaxError",
          "evalue": "ignored",
          "output_type": "error",
          "traceback": [
            "\u001b[0;36m  File \u001b[0;32m\"<ipython-input-2-7067b27e1e4c>\"\u001b[0;36m, line \u001b[0;32m3\u001b[0m\n\u001b[0;31m    metin = 'Önümüzdeki ay \"Ankara'da Python Eğitimi\" gerçekleştirilecektir.'\u001b[0m\n\u001b[0m                                    ^\u001b[0m\n\u001b[0;31mSyntaxError\u001b[0m\u001b[0;31m:\u001b[0m invalid syntax\n"
          ]
        }
      ],
      "source": [
        "# Örnek uygulamadaki hatayı gözlemle\n",
        "\n",
        "metin = 'Önümüzdeki ay \"Ankara'da Python Eğitimi\" gerçekleştirilecektir.'\n",
        "print(metin)"
      ]
    },
    {
      "cell_type": "markdown",
      "metadata": {
        "id": "5520MewzVPmx"
      },
      "source": [
        "**Görev:** Metin katarındaki cümlede yer alan noktalama işaretlerinden uygun şekilde kaçarak cümleyi ekrana yazdırın!"
      ]
    },
    {
      "cell_type": "code",
      "execution_count": null,
      "metadata": {
        "colab": {
          "base_uri": "https://localhost:8080/"
        },
        "id": "A8Gpec2uVhxU",
        "outputId": "0d7dd732-a8a4-411a-afe5-cf7cb48334d7"
      },
      "outputs": [
        {
          "name": "stdout",
          "output_type": "stream",
          "text": [
            "Bilimsel çalışmalarda \"Python\" kullanımı Türkiye'de çok yaygınlaştı!\n"
          ]
        }
      ],
      "source": [
        "metin = 'Bilimsel çalışmalarda \\\"Python\" kullanımı Türkiye\\'de çok yaygınlaştı!'\n",
        "print(metin)"
      ]
    },
    {
      "cell_type": "markdown",
      "metadata": {
        "id": "cft6m1VaVqVH"
      },
      "source": [
        "##Basit Metin Katarı Metodları\n",
        "Python içinde birçok yerleşik metin katarı fonksiyonu vardır. En çok kullanılan fonksiyonlardan bazıları olarak;\n",
        "\n",
        "* tüm harfleri büyük harfe dönüştüren *upper()*,\n",
        "* tüm harfleri küçük harfe dönüştüren *lower()*,\n",
        "* sadece cümlenin ilk harfini büyük hale getiren *capitalize()* sayılabilir.\n",
        "\n",
        "**İpucu:** Python'daki yerleşik fonksiyonların bir listesini görüntüleyebilmek için metin katarından sonra bir nokta (.) koyulur ve uygun olan fonksiyonlar arayüz tarafından otomatik olarak listelenir. Bu yardımcı işlevi tetiklemek için CTRL + Bolşuk tuş kombinasyonu da kullanılabilir."
      ]
    },
    {
      "cell_type": "markdown",
      "metadata": {
        "id": "S3-V5gloV3MM"
      },
      "source": [
        "**Örnek Uygulama**\n",
        "\n",
        "```\n",
        "metin = \"Python Programlama Dili\"\n",
        "print(metin.lower())    # Çıktı: python programlama dili\n",
        "print(metin.upper())    # Çıktı: PYTHON PROGRAMLAMA DILI\n",
        "print(metin.capitalize())    # Çıktı: Python programlama dili\n",
        "```\n",
        "\n"
      ]
    },
    {
      "cell_type": "code",
      "execution_count": null,
      "metadata": {
        "colab": {
          "base_uri": "https://localhost:8080/"
        },
        "id": "x6OiDHydSKra",
        "outputId": "026b3969-b2af-4e55-e230-2da1be2ee939"
      },
      "outputs": [
        {
          "name": "stdout",
          "output_type": "stream",
          "text": [
            "python programlama dili\n",
            "PYTHON PROGRAMLAMA DILI\n",
            "Python programlama dili\n"
          ]
        }
      ],
      "source": [
        "# Örnek uygulamayı çalıştır\n",
        "\n",
        "metin = \"Python Programlama Dili\"\n",
        "print(metin.lower())\n",
        "print(metin.upper())\n",
        "print(metin.capitalize())"
      ]
    },
    {
      "cell_type": "markdown",
      "metadata": {
        "id": "-ko2Gpq_Vz23"
      },
      "source": [
        "**Görev:** *anahtarKelime* ve *arananKelime* değişkenlerinde yer alan metinler karşılaştırıldığında birbirlerine eşit (==) olmalarını sağlayın ve dönen değerin \"True\" olmasını sağlayın!"
      ]
    },
    {
      "cell_type": "code",
      "execution_count": null,
      "metadata": {
        "colab": {
          "base_uri": "https://localhost:8080/"
        },
        "id": "XfaN4psBV8wr",
        "outputId": "38de5470-4b34-4b54-a387-5d7a308af90e"
      },
      "outputs": [
        {
          "name": "stdout",
          "output_type": "stream",
          "text": [
            "MAKINE ÖĞRENMESI\n",
            "MAKINE ÖĞRENMESI\n",
            "False\n",
            "False\n"
          ]
        }
      ],
      "source": [
        "anahtarKelime = \"Makine Öğrenmesi\"\n",
        "arananKelime = \"makine öğrenmesi\"\n",
        "print(anahtarKelime.upper())\n",
        "print(arananKelime.upper())\n",
        "print(anahtarKelime == arananKelime)\n",
        "\n",
        "\n",
        "print(anahtarKelime == arananKelime) # Çıktı: True"
      ]
    },
    {
      "cell_type": "markdown",
      "metadata": {
        "id": "16m1oC6LWEdJ"
      },
      "source": [
        "##Metin Katarı Biçimlendirme\n",
        "Bir metin katarından sonraki % operatörü, bir metin katarını değişkenlerle birleştirmek için kullanılır. % operatörü, bir metin katarıdanki % s öğesini, arkasından gelen değişkenle değiştirir. % d sembolü ise, sayısal veya ondalık değerler için yer tutucu olarak kullanılır."
      ]
    },
    {
      "cell_type": "markdown",
      "metadata": {
        "id": "1l70j4-3WP4b"
      },
      "source": [
        "**Örnek Uygulama**\n",
        "\n",
        "```\n",
        "adsoyad = \"Orçun Madran\"\n",
        "dogumTarihi = 1976\n",
        "\n",
        "print(\"Merhaba, ben %s!\" % adsoyad) #  Çıktı: Merhaba, ben Orçun Madran!\n",
        "print(\"Ben %d doğumluyum\" % dogumTarihi) #  Ben 1976 doğumluyum.\n",
        "\n",
        "ad = \"Orçun\"\n",
        "soyad = \"Madran\"\n",
        "\n",
        "print(\"Merhaba, ben %s %s!\" % (ad, soyad)) #  Çıktı: Merhaba, ben Orçun Madran!\n",
        "```\n",
        "\n"
      ]
    },
    {
      "cell_type": "code",
      "execution_count": null,
      "metadata": {
        "colab": {
          "base_uri": "https://localhost:8080/"
        },
        "id": "L1lvJBIVSzRK",
        "outputId": "ad26ff49-9cf2-4158-820b-293ae313a54f"
      },
      "outputs": [
        {
          "name": "stdout",
          "output_type": "stream",
          "text": [
            "Merhaba, ben Orçun Madran!\n",
            "Ben 1976 doğumluyum\n"
          ]
        }
      ],
      "source": [
        "# Örnek uygulamayı çalıştır\n",
        "\n",
        "adsoyad = \"Orçun Madran\"\n",
        "dogumTarihi = 1976\n",
        "\n",
        "print(\"Merhaba, ben %s!\" % adsoyad)\n",
        "print(\"Ben %d doğumluyum\" % dogumTarihi)"
      ]
    },
    {
      "cell_type": "code",
      "execution_count": null,
      "metadata": {
        "colab": {
          "base_uri": "https://localhost:8080/"
        },
        "id": "YEhvVmn0TAlx",
        "outputId": "35b248d0-72a3-4633-947f-eaf03aaa3779"
      },
      "outputs": [
        {
          "name": "stdout",
          "output_type": "stream",
          "text": [
            "Merhaba, ben Orçun Madran!\n"
          ]
        }
      ],
      "source": [
        "# Örnek uygulamayı çalıştır\n",
        "\n",
        "ad = \"Orçun\"\n",
        "soyad = \"Madran\"\n",
        "\n",
        "print(\"Merhaba, ben %s %s!\" % (ad, soyad))"
      ]
    },
    {
      "cell_type": "markdown",
      "metadata": {
        "id": "b7ny_Q7uWJJX"
      },
      "source": [
        "**Görev:** \"Merhaba Orçun Madran, bu dönemki dersiniz 'Programlama Dilleri'. Başarılar!\" cümlesini ekrana biçimlendirmeyi kullanarak (artı işaretini kullanmadan) yazdırın!"
      ]
    },
    {
      "cell_type": "code",
      "execution_count": null,
      "metadata": {
        "colab": {
          "base_uri": "https://localhost:8080/"
        },
        "id": "HxYY3XqGWYsi",
        "outputId": "bc825a50-4ad2-41c1-f762-c4c3a7ed2862"
      },
      "outputs": [
        {
          "name": "stdout",
          "output_type": "stream",
          "text": [
            "Merhaba,ben Orçun Madran,bu dönemki dersiniz\"Programlama Dilleri\". Başarılar!\n"
          ]
        }
      ],
      "source": [
        "ad = \"Orçun\"\n",
        "soyad = \"Madran\"\n",
        "ders = \"Programlama Dilleri\"\n",
        "print(\"Merhaba,ben %s %s,bu dönemki dersiniz\\\"%s\\\". Başarılar!\" % (ad , soyad , ders))\n",
        "\n",
        "# Çıktı: Merhaba Orçun Madran, bu dönemki dersiniz \"Programlama Dilleri\". Başarılar!"
      ]
    },
    {
      "cell_type": "markdown",
      "metadata": {
        "id": "nTiryVt-EuJP"
      },
      "source": [
        "# Bölüm 04: Veri Yapılar\n",
        "\n",
        "Bu bölümde:\n",
        "\n",
        "*   Listeler,\n",
        "*   Liste işlemleri,\n",
        "*   Liste öğeleri,\n",
        "*   Demetler (Tuples),\n",
        "*   Sözlükler,\n",
        "*   Sözlük değerleri ve anahtarları,\n",
        "*   In anahtar kelimesinin kullanımı yer almaktadır.\n"
      ]
    },
    {
      "cell_type": "markdown",
      "metadata": {
        "id": "H78J_wNDE1Id"
      },
      "source": [
        "## Listeler\n",
        "Liste, birden fazla değeri tek bir değişken adı altında saklamak için kullanabileceğiniz bir veri yapısıdır. Bir liste köşeli parantez arasında virgülle ayrılmış değerler dizisi olarak yazılır. Ör: liste = [deger1, deger2].\n",
        "\n",
        "Listeler farklı türden öğeler içerebilir, ancak genellikle listedeki tüm öğeler aynı türdedir. Metin katarları gibi listeler de dizine eklenebilir ve dilimlenebilir. (Bkz. Bölüm 3)."
      ]
    },
    {
      "cell_type": "markdown",
      "metadata": {
        "id": "O4TC5Qs2Ge8H"
      },
      "source": [
        "**Örnek Uygulama**\n",
        "\n",
        "```\n",
        "acikListe = [\"Açık Bilim\", \"Açık Erişim\", \"Açık Veri\", \"Açık Eğitim\", \"Açık Kaynak\"]   # acikListe adında yeni bir liste oluşturur\n",
        "\n",
        "print(acikListe) # Çıktı: ['Açık Bilim', 'Açık Erişim', 'Açık Veri', 'Açık Eğitim', 'Açık Kaynak']\n",
        "```\n",
        "\n"
      ]
    },
    {
      "cell_type": "code",
      "execution_count": null,
      "metadata": {
        "colab": {
          "base_uri": "https://localhost:8080/"
        },
        "id": "p1GRzMQkUgX0",
        "outputId": "de208ea3-2828-4c1d-903e-059c474d7823"
      },
      "outputs": [
        {
          "name": "stdout",
          "output_type": "stream",
          "text": [
            "['Açık Bilim', 'Açık Erişim', 'Açık Veri', 'Açık Eğitim', 'Açık Kaynak']\n"
          ]
        }
      ],
      "source": [
        "# Örnek uygulamayı çalıştır\n",
        "\n",
        "acikListe = [\"Açık Bilim\", \"Açık Erişim\", \"Açık Veri\", \"Açık Eğitim\", \"Açık Kaynak\"]\n",
        "print(acikListe)"
      ]
    },
    {
      "cell_type": "markdown",
      "metadata": {
        "id": "ZqYRBLZSIJvi"
      },
      "source": [
        "**Görev 1:** acikListe içinde yer alan 3. liste öğesini ekrana yazıdırın! "
      ]
    },
    {
      "cell_type": "code",
      "execution_count": null,
      "metadata": {
        "colab": {
          "base_uri": "https://localhost:8080/"
        },
        "id": "bVSMLdnLG7Kx",
        "outputId": "4bbfa7dc-c459-45c8-c188-b2c72117d691"
      },
      "outputs": [
        {
          "name": "stdout",
          "output_type": "stream",
          "text": [
            "Açık Eğitim\n"
          ]
        }
      ],
      "source": [
        "acikListe = [\"Açık Bilim\", \"Açık Erişim\", \"Açık Veri\", \"Açık Eğitim\", \"Açık Kaynak\"]\n",
        "print(acikListe[3])\n"
      ]
    },
    {
      "cell_type": "markdown",
      "metadata": {
        "id": "pZ4hTBC0JCln"
      },
      "source": [
        "**Görev 2:** acikListe içinde yer alan 4. ve 5. liste öğesini ekrana yazıdırın! "
      ]
    },
    {
      "cell_type": "code",
      "execution_count": null,
      "metadata": {
        "colab": {
          "base_uri": "https://localhost:8080/"
        },
        "id": "_DgLPxODI3aP",
        "outputId": "1a46594e-fdf9-43ac-fd9c-044b154d1e6b"
      },
      "outputs": [
        {
          "name": "stdout",
          "output_type": "stream",
          "text": [
            "['Açık Eğitim', 'Açık Kaynak']\n"
          ]
        }
      ],
      "source": [
        "acikListe = [\"Açık Bilim\", \"Açık Erişim\", \"Açık Veri\", \"Açık Eğitim\", \"Açık Kaynak\"]\n",
        "dilimle=acikListe[3:]\n",
        "print(dilimle)\n"
      ]
    },
    {
      "cell_type": "markdown",
      "metadata": {
        "id": "D_Vt3_mQJq9Q"
      },
      "source": [
        "## Liste İşlemleri\n",
        "append() fonksiyonunu kullanarak ya da artırılmış atama operatörü ( += ) yardımıyla listenin sonuna yeni öğeler (değerler) eklenebilir.  Listelerin içindeki öğeler güncellenebilir, yani liste[indeksNo] = yeni_deger kullanarak içeriklerini değiştirmek mümkündür."
      ]
    },
    {
      "cell_type": "markdown",
      "metadata": {
        "id": "3xGEUhipL11G"
      },
      "source": [
        "**Örnek Uygulama**\n",
        "\n",
        "```\n",
        "acikListe = [\"Açık Bilim\", \"Açık Erişim\", \"Açık Veri\", \"Açık Eğitim\", \"Açık Kaynak\"]   # acikListe adında yeni bir liste oluşturur\n",
        "print(acikListe) # Çıktı: ['Açık Bilim', 'Açık Erişim', 'Açık Veri', 'Açık Eğitim', 'Açık Kaynak']\n",
        "\n",
        "acikListe += [\"Açık Donanım\", \"Açık İnovasyon\"]    # listeye iki yeni öğe ekler\n",
        "print(acikListe) # Çıktı: ['Açık Bilim', 'Açık Erişim', 'Açık Veri', 'Açık Eğitim', 'Açık Kaynak', 'Açık Donanım', 'Açık İnovasyon']\n",
        "\n",
        "acikListe.append(\"Açık Veri Gazeteciliği\")   # listeye yeni bir öğe ekler\n",
        "print(acikListe) # Çıktı: ['Açık Bilim', 'Açık Erişim', 'Açık Veri', 'Açık Eğitim', 'Açık Kaynak', 'Açık Donanım', 'Açık İnovasyon', 'Açık Veri Gazeteciliği']\n",
        "\n",
        "acikListe[4] = \"Açık Kaynak Kod\" # listenin 5. öğesini değiştirir\n",
        "print(acikListe) # Çıktı: ['Açık Bilim', 'Açık Erişim', 'Açık Veri', 'Açık Eğitim', 'Açık Kaynak Kod', 'Açık Donanım', 'Açık İnovasyon', 'Açık Veri Gazeteciliği']\n",
        "```\n",
        "\n"
      ]
    },
    {
      "cell_type": "code",
      "execution_count": null,
      "metadata": {
        "colab": {
          "base_uri": "https://localhost:8080/"
        },
        "id": "YlhpK0Y2VbBw",
        "outputId": "30294096-b937-497f-da7f-d67904af7720"
      },
      "outputs": [
        {
          "name": "stdout",
          "output_type": "stream",
          "text": [
            "['Açık Bilim', 'Açık Erişim', 'Açık Veri', 'Açık Eğitim', 'Açık Kaynak']\n",
            "['Açık Bilim', 'Açık Erişim', 'Açık Veri', 'Açık Eğitim', 'Açık Kaynak', 'Açık Donanım', 'Açık İnovasyon']\n",
            "['Açık Bilim', 'Açık Erişim', 'Açık Veri', 'Açık Eğitim', 'Açık Kaynak', 'Açık Donanım', 'Açık İnovasyon', 'Açık Veri Gazeteciliği']\n",
            "['Açık Bilim', 'Açık Erişim', 'Açık Veri', 'Açık Eğitim', 'Açık Kaynak Kod', 'Açık Donanım', 'Açık İnovasyon', 'Açık Veri Gazeteciliği']\n"
          ]
        }
      ],
      "source": [
        "# Örnek uygulamayı çalıştır\n",
        "\n",
        "acikListe = [\"Açık Bilim\", \"Açık Erişim\", \"Açık Veri\", \"Açık Eğitim\", \"Açık Kaynak\"]\n",
        "print(acikListe)\n",
        " \n",
        "acikListe += [\"Açık Donanım\", \"Açık İnovasyon\"] \n",
        "print(acikListe)\n",
        " \n",
        "acikListe.append(\"Açık Veri Gazeteciliği\")\n",
        "print(acikListe)\n",
        " \n",
        "acikListe[4] = \"Açık Kaynak Kod\"\n",
        "print(acikListe)"
      ]
    },
    {
      "cell_type": "markdown",
      "metadata": {
        "id": "5hgUnMj7ODY1"
      },
      "source": [
        "**Görev:** bilgiBilim adlı bir liste oluşturun. Bu listeye bilgi bilim disiplini ile ilgili 3 adet anahtar kelime ya da kavram ekleyin. Bu listeyi ekrana yazdırın. Listeye istediğiniz bir yöntem ile (append(), +=) 2 yeni öğe ekleyin. Ekrana listenin son durumunu yazdırın. Listenizdeki son öğeyi değiştirin. Listenin son halini ekrana yazıdırn."
      ]
    },
    {
      "cell_type": "code",
      "execution_count": null,
      "metadata": {
        "colab": {
          "base_uri": "https://localhost:8080/"
        },
        "id": "_gzwR_UGLkL4",
        "outputId": "82322fd3-c6b9-4b98-af4a-fdd39941b3ae"
      },
      "outputs": [
        {
          "name": "stdout",
          "output_type": "stream",
          "text": [
            "['Dilbilim', 'Psikoloji', 'Matematik']\n",
            "['Dilbilim', 'Psikoloji', 'Matematik', 'İletişim', 'Kütüphanecilik']\n",
            "['Dilbilim', 'Psikoloji', 'Matematik', 'İletişim', 'Kütüphanecilik', 'Bilgisayar Teknolojileri']\n",
            "['Dilbilim', 'Psikoloji', 'Matematik', 'İletişim', 'Kütüphanecilik', 'Bilgisayar']\n"
          ]
        }
      ],
      "source": [
        "#bilgiBilim\n",
        "bilgiBilim = [\"Dilbilim\", \"Psikoloji\", \"Matematik\"]\n",
        "print(bilgiBilim)\n",
        "bilgiBilim += [\"İletişim\", \"Kütüphanecilik\"]\n",
        "print(bilgiBilim)\n",
        "bilgiBilim.append(\"Bilgisayar Teknolojileri\")\n",
        "print(bilgiBilim)\n",
        "bilgiBilim[5]=(\"Bilgisayar\")\n",
        "print(bilgiBilim)\n"
      ]
    },
    {
      "cell_type": "markdown",
      "metadata": {
        "id": "qiE0PiXLPQmM"
      },
      "source": [
        "## Liste Öğeleri"
      ]
    },
    {
      "cell_type": "markdown",
      "metadata": {
        "id": "S7yYWbwTPXQ8"
      },
      "source": [
        "Liste öğelerini dilimleme (slice) yaparak da atamak mümkündür. Bu bir listenin boyutunu değiştirebilir veya listeyi tamamen temizleyebilir."
      ]
    },
    {
      "cell_type": "markdown",
      "metadata": {
        "id": "_ooqgLJbPsXC"
      },
      "source": [
        "**Örnek Uygulama**\n",
        "\n",
        "```\n",
        "acikListe = [\"Açık Bilim\", \"Açık Erişim\", \"Açık Veri\", \"Açık Eğitim\", \"Açık Kaynak\"]   # acikListe adında yeni bir liste oluşturur\n",
        "print(acikListe) # Çıktı: ['Açık Bilim', 'Açık Erişim', 'Açık Veri', 'Açık Eğitim', 'Açık Kaynak']\n",
        "\n",
        "acikListe[2:4] = [\"Açık İnovasyon\"]    # \"Açık Veri\" ve \"Açık Eğitim\" öğelerinin yerine tek bir öğe ekler\n",
        "print(acikListe)  #Çıktı:  [\"Açık Bilim\", \"Açık Erişim\", \"Açık İnovasyon\", \"Açık Kaynak\"]\n",
        "\n",
        "acikListe[:2] = []     # listenin ilk iki öğesini siler\n",
        "print(acikListe)  #Çıktı:  [\"Açık İnovasyon\", \"Açık Kaynak\"]\n",
        "\n",
        "acikListe[:] = [] # listeyi temizler \n",
        "print(acikListe)  #Çıktı: []\n",
        "```\n",
        "\n"
      ]
    },
    {
      "cell_type": "code",
      "execution_count": null,
      "metadata": {
        "colab": {
          "base_uri": "https://localhost:8080/"
        },
        "id": "ZTD-lZlkWPQZ",
        "outputId": "98a8a171-7eed-4732-cb71-3bd03f7150f4"
      },
      "outputs": [
        {
          "name": "stdout",
          "output_type": "stream",
          "text": [
            "['Açık Bilim', 'Açık Erişim', 'Açık Veri', 'Açık Eğitim', 'Açık Kaynak']\n",
            "['Açık Bilim', 'Açık Erişim', 'Açık İnovasyon', 'Açık Kaynak']\n",
            "['Açık İnovasyon', 'Açık Kaynak']\n",
            "[]\n"
          ]
        }
      ],
      "source": [
        "# Örnek uygulamayı çalıştır\n",
        "\n",
        "acikListe = [\"Açık Bilim\", \"Açık Erişim\", \"Açık Veri\", \"Açık Eğitim\", \"Açık Kaynak\"]\n",
        "print(acikListe)\n",
        "\n",
        "acikListe[2:4] = [\"Açık İnovasyon\"]\n",
        "print(acikListe)\n",
        "\n",
        "acikListe[:2] = []\n",
        "print(acikListe)\n",
        "\n",
        "acikListe[:] = []\n",
        "print(acikListe)"
      ]
    },
    {
      "cell_type": "markdown",
      "metadata": {
        "id": "4C3xLijJSKdE"
      },
      "source": [
        "**Görev:** Önceki görevde oluşturulan \"bilgiBilim\" adlı listenin istediğiniz öğesini silerek listenin güncel halini ekrana yazdırın. Listeyi tamamen temizleyerek listenin güncel halini ekrana yazdırın."
      ]
    },
    {
      "cell_type": "code",
      "execution_count": null,
      "metadata": {
        "colab": {
          "base_uri": "https://localhost:8080/"
        },
        "id": "uQPbQgJAQ8nq",
        "outputId": "c2d1e8ef-b21d-447c-c7b2-d884693466d8"
      },
      "outputs": [
        {
          "name": "stdout",
          "output_type": "stream",
          "text": [
            "['Dilbilim', 'Psikoloji', 'Matematik', 'İletişim', 'Kütüphanecilik']\n",
            "['Dilbilim', 'Bilgisayar Teknolojileri', 'İletişim', 'Kütüphanecilik']\n",
            "[]\n"
          ]
        }
      ],
      "source": [
        "#bilgiBilim\n",
        "bilgiBilim = [\"Dilbilim\", \"Psikoloji\", \"Matematik\", \"İletişim\", \"Kütüphanecilik\"]\n",
        "print(bilgiBilim)\n",
        "bilgiBilim[1:3] = [\"Bilgisayar Teknolojileri\"]\n",
        "print(bilgiBilim)\n",
        "bilgiBilim[:] = []\n",
        "print(bilgiBilim)\n"
      ]
    },
    {
      "cell_type": "markdown",
      "metadata": {
        "id": "J_f83oCDS-Hz"
      },
      "source": [
        "## Demetler (Tuples)"
      ]
    },
    {
      "cell_type": "markdown",
      "metadata": {
        "id": "9er0WsfhTBpI"
      },
      "source": [
        "Demetler neredeyse listelerle aynı. Demetler ve listeler arasındaki tek önemli fark, demetlerin değiştirilememesidir. Demetlere öğe eklenmez, öğe değiştirilmez veya demetlerden öğe silinemez. Demetler, parantez içine alınmış bir virgül operatörü tarafından oluşturulur. Ör: demet = (\"deger1\", \"deger2\", \"deger3\"). Tek bir öğe demetinde (\"d\",) gibi bir virgül olmalıdır."
      ]
    },
    {
      "cell_type": "markdown",
      "metadata": {
        "id": "h95qzA42Tti-"
      },
      "source": [
        "**Örnek Uygulama**\n",
        "\n",
        "```\n",
        "ulkeKodlari = (\"TR\", \"US\", \"EN\", \"JP\")\n",
        "print(ulkeKodlari)   # Çıktı: ('TR', 'US', 'EN', 'JP')\n",
        "```\n",
        "\n"
      ]
    },
    {
      "cell_type": "code",
      "execution_count": null,
      "metadata": {
        "colab": {
          "base_uri": "https://localhost:8080/"
        },
        "id": "XHSZ06qzWxmB",
        "outputId": "116a74c9-9dbe-4f1a-ec87-c467070051df"
      },
      "outputs": [
        {
          "name": "stdout",
          "output_type": "stream",
          "text": [
            "('TR', 'US', 'EN', 'JP')\n"
          ]
        }
      ],
      "source": [
        "# Örnek uygulamayı çalıştır\n",
        "\n",
        "ulkeKodlari = (\"TR\", \"US\", \"EN\", \"JP\")\n",
        "print(ulkeKodlari)"
      ]
    },
    {
      "cell_type": "markdown",
      "metadata": {
        "id": "ON1kJ2-nU2ZO"
      },
      "source": [
        "**Görev:** Kongre Kütüphanesi konu başlıkları listesinin kodlarından oluşan bir demet oluşturun ve ekrana yazdırın! Oluşturulan demet içindeki tek bir öğeyi ekrana yazdırın!"
      ]
    },
    {
      "cell_type": "code",
      "execution_count": null,
      "metadata": {
        "colab": {
          "base_uri": "https://localhost:8080/"
        },
        "id": "p4i7BTX1Uv9S",
        "outputId": "6a150651-e9ba-4edd-9b5c-9a27af04031c"
      },
      "outputs": [
        {
          "name": "stdout",
          "output_type": "stream",
          "text": [
            "('LCHS', 'Veri Erişimi')\n",
            "('LCHS',)\n"
          ]
        }
      ],
      "source": [
        "#konuBasliklari\n",
        "konuBasliklari = (\"LCHS\", \"Veri Erişimi\")\n",
        "print(konuBasliklari)\n",
        "dilimle=konuBasliklari[:1]\n",
        "print(dilimle)\n"
      ]
    },
    {
      "cell_type": "markdown",
      "metadata": {
        "id": "HkDm5do0Vduc"
      },
      "source": [
        "## Sözlükler\n",
        "Sözlük, listeye benzer, ancak sözlük içindeki değerlere indeks numarası yerine bir anahtara ile erişilebilir. Bir anahtar herhangi bir metin katarı veya rakam olabilir. Sözlükler ayraç içine alınır. Ör: sozluk = {'anahtar1': \"değer1\", 'anahtar2': \"değer2\"}."
      ]
    },
    {
      "cell_type": "markdown",
      "metadata": {
        "id": "e1BbS2f3V9le"
      },
      "source": [
        "**Örnek Uygulama**\n",
        "\n",
        "```\n",
        "adresDefteri = {\"Hacettepe Üniversitesi\": \"hacettepe.edu.tr\", \"ODTÜ\": \"odtu.edu.tr\", \"Bilkent Üniversitesi\": \"bilkent.edu.tr\"} # yeni bir sözlük oluşturur\n",
        "print(adresDefteri) # Çıktı: {'Hacettepe Üniversitesi': 'hacettepe.edu.tr', 'ODTÜ': 'odtu.edu.tr', 'Bilkent Üniversitesi': 'bilkent.edu.tr'}\n",
        "\n",
        "adresDefteri[\"Ankara Üniversitesi\"] = \"ankara.edu.tr\" #sözlüğe yeni bir öğe ekler\n",
        "print(adresDefteri)  # Çıktı: {'Hacettepe Üniversitesi': 'hacettepe.edu.tr', 'ODTÜ': 'odtu.edu.tr', 'Bilkent Üniversitesi': 'bilkent.edu.tr', 'Ankara Üniversitesi': 'ankara.edu.tr'}\n",
        "\n",
        "del adresDefteri [\"Ankara Üniversitesi\"] #sözlükten belirtilen öğeyi siler\n",
        "print(adresDefteri) # Çıktı: {'Hacettepe Üniversitesi': 'hacettepe.edu.tr', 'ODTÜ': 'odtu.edu.tr', 'Bilkent Üniversitesi': 'bilkent.edu.tr'}\n",
        "```\n",
        "\n"
      ]
    },
    {
      "cell_type": "code",
      "execution_count": null,
      "metadata": {
        "colab": {
          "base_uri": "https://localhost:8080/"
        },
        "id": "T1DFoRVIXJtN",
        "outputId": "aaa89dc2-04f3-4098-f8a9-7e42a345a4c8"
      },
      "outputs": [
        {
          "name": "stdout",
          "output_type": "stream",
          "text": [
            "{'Hacettepe Üniversitesi': 'hacettepe.edu.tr', 'ODTÜ': 'odtu.edu.tr', 'Bilkent Üniversitesi': 'bilkent.edu.tr'}\n",
            "{'Hacettepe Üniversitesi': 'hacettepe.edu.tr', 'ODTÜ': 'odtu.edu.tr', 'Bilkent Üniversitesi': 'bilkent.edu.tr', 'Ankara Üniversitesi': 'ankara.edu.tr'}\n",
            "{'Hacettepe Üniversitesi': 'hacettepe.edu.tr', 'ODTÜ': 'odtu.edu.tr', 'Bilkent Üniversitesi': 'bilkent.edu.tr'}\n"
          ]
        }
      ],
      "source": [
        "# Örnek uygulamayı çalıştır\n",
        "\n",
        "adresDefteri = {\"Hacettepe Üniversitesi\": \"hacettepe.edu.tr\", \"ODTÜ\": \"odtu.edu.tr\", \"Bilkent Üniversitesi\": \"bilkent.edu.tr\"}\n",
        "print(adresDefteri)\n",
        "\n",
        "adresDefteri[\"Ankara Üniversitesi\"] = \"ankara.edu.tr\"\n",
        "print(adresDefteri)\n",
        "\n",
        "del adresDefteri [\"Ankara Üniversitesi\"]\n",
        "print(adresDefteri)"
      ]
    },
    {
      "cell_type": "markdown",
      "metadata": {
        "id": "fDWQzlKTXYbo"
      },
      "source": [
        "**Görev:** İstediğin herhangi bir konuda 5 öğeye sahip bir sözlük oluştur. Sözlüğü ekrana yazdır. Sözlükteki belirli bir öğeyi ekrana yazdır. Sözlükteki belirli bir öğeyi silerek sözlüğün güncel halini ekrana yazdır!"
      ]
    },
    {
      "cell_type": "code",
      "execution_count": null,
      "metadata": {
        "colab": {
          "base_uri": "https://localhost:8080/"
        },
        "id": "t4-oPZTRXEuQ",
        "outputId": "f3df54ba-dc76-43b3-e8b4-cafac5249128"
      },
      "outputs": [
        {
          "name": "stdout",
          "output_type": "stream",
          "text": [
            "{'Franz Kafka': 'Aforizmalar', 'Sinan Akyüz': 'İncir Kuşları', 'İskender Pala': 'OD'}\n",
            "{'Franz Kafka': 'Aforizmalar', 'Sinan Akyüz': 'İncir Kuşları', 'İskender Pala': 'OD', 'Paulo Coelho': 'Simyacı'}\n",
            "{'Franz Kafka': 'Aforizmalar', 'Sinan Akyüz': 'İncir Kuşları', 'İskender Pala': 'OD'}\n"
          ]
        }
      ],
      "source": [
        "#sozluk\n",
        "sozluk = {\"Franz Kafka\" : \"Aforizmalar\" , \"Sinan Akyüz\" : \"İncir Kuşları\" , \"İskender Pala\" : \"OD\"}\n",
        "print(sozluk)\n",
        "sozluk[\"Paulo Coelho\"] = \"Simyacı\"\n",
        "print(sozluk)\n",
        "del sozluk [\"Paulo Coelho\"]\n",
        "print(sozluk)"
      ]
    },
    {
      "cell_type": "markdown",
      "metadata": {
        "id": "9qqctZNZX6q4"
      },
      "source": [
        "## Sözlük Değerleri ve Anahtarları\n",
        "Sözlüklerde values() ve keys() gibi birçok yararlı fonksiyon vardır. Bir sozlük adı ve ardından noktadan sonra çıkan listeyi kullanarak geri kalan fonksiyolar incelenebilir."
      ]
    },
    {
      "cell_type": "markdown",
      "metadata": {
        "id": "EaYu0M-1Ydia"
      },
      "source": [
        "**Örnek Uygulama**\n",
        "\n",
        "```\n",
        "adresDefteri = {\"Hacettepe Üniversitesi\": \"hacettepe.edu.tr\", \"ODTÜ\": \"odtu.edu.tr\", \"Bilkent Üniversitesi\": \"bilkent.edu.tr\"} # yeni bir sözlük oluşturur\n",
        "print(adresDefteri) # Çıktı: {'Hacettepe Üniversitesi': 'hacettepe.edu.tr', 'ODTÜ': 'odtu.edu.tr', 'Bilkent Üniversitesi': 'bilkent.edu.tr'}\n",
        "\n",
        "print(adresDefteri.values()) # Çıktı: dict_values(['hacettepe.edu.tr', 'odtu.edu.tr', 'bilkent.edu.tr'])\n",
        "\n",
        "print(adresDefteri.keys()) # Çıktı: dict_keys(['Hacettepe Üniversitesi', 'ODTÜ', 'Bilkent Üniversitesi'])\n",
        "```\n",
        "\n"
      ]
    },
    {
      "cell_type": "code",
      "execution_count": null,
      "metadata": {
        "colab": {
          "base_uri": "https://localhost:8080/"
        },
        "id": "b07Mqre3XqoH",
        "outputId": "d7fc7899-d941-45f6-c628-f3759d8bdee7"
      },
      "outputs": [
        {
          "name": "stdout",
          "output_type": "stream",
          "text": [
            "{'Hacettepe Üniversitesi': 'hacettepe.edu.tr', 'ODTÜ': 'odtu.edu.tr', 'Bilkent Üniversitesi': 'bilkent.edu.tr'}\n",
            "dict_values(['hacettepe.edu.tr', 'odtu.edu.tr', 'bilkent.edu.tr'])\n",
            "dict_keys(['Hacettepe Üniversitesi', 'ODTÜ', 'Bilkent Üniversitesi'])\n"
          ]
        }
      ],
      "source": [
        "# Örnek uygulamayı çalıştır\n",
        "\n",
        "adresDefteri = {\"Hacettepe Üniversitesi\": \"hacettepe.edu.tr\", \"ODTÜ\": \"odtu.edu.tr\", \"Bilkent Üniversitesi\": \"bilkent.edu.tr\"}\n",
        "print(adresDefteri)\n",
        "\n",
        "print(adresDefteri.values())\n",
        "\n",
        "print(adresDefteri.keys())"
      ]
    },
    {
      "cell_type": "markdown",
      "metadata": {
        "id": "twxTKZ-XY_5l"
      },
      "source": [
        "**Görev:** İstediğin bir konuda istediğin öğe saysına sahip bir sözlük oluştur. Sözlükler ile ilgili farklı fonksiyoları dene. Sonuçları ekrana yazdır!"
      ]
    },
    {
      "cell_type": "code",
      "execution_count": null,
      "metadata": {
        "colab": {
          "base_uri": "https://localhost:8080/"
        },
        "id": "CcNcGoOaZfja",
        "outputId": "f29b6966-ebc2-47e1-a0f9-7b98a9040a54"
      },
      "outputs": [
        {
          "name": "stdout",
          "output_type": "stream",
          "text": [
            "{'Franz Kafka': 'Aforizmalar', 'Sinan Akyüz': 'İncir Kuşları', 'İskender Pala': 'OD'}\n",
            "dict_values(['Aforizmalar', 'İncir Kuşları', 'OD'])\n",
            "dict_keys(['Franz Kafka', 'Sinan Akyüz', 'İskender Pala'])\n"
          ]
        }
      ],
      "source": [
        "#yeniSozluk\n",
        "sozluk = {\"Franz Kafka\" : \"Aforizmalar\" , \"Sinan Akyüz\" : \"İncir Kuşları\" , \"İskender Pala\" : \"OD\"}\n",
        "print(sozluk)\n",
        "print(sozluk.values())\n",
        "print(sozluk.keys())"
      ]
    },
    {
      "cell_type": "markdown",
      "metadata": {
        "id": "iFlaNCzFpdIj"
      },
      "source": [
        "##In Anahtar Kelimesi\n",
        "\"In\" anahtar sözcüğü, bir listenin veya sözlüğün belirli bir öğe içerip içermediğini kontrol etmek için kullanılır. Daha önce metin katarlarındaki kullanıma benzer bir kullanımı vardır. \"In\" anahtar sözcüğü ile öğe kontrolü yapıldıktan sonra sonuç, öğe listede ya da sözlükte yer alıyorsa *True* yer almıyorsa *False* olarak geri döner.\n",
        "\n",
        "**Dikkat**: Aranan öğe ile liste ya da sözlük içinde yer alan öğelerin karşılaştırılması sırasında büyük-küçük harf duyarlılığı bulunmaktadır. Ör: \"Bilgi\" ve \"bilgi\" iki farklı öğe olarak değerlendirilir."
      ]
    },
    {
      "cell_type": "markdown",
      "metadata": {
        "id": "rZ-pjki1q6bs"
      },
      "source": [
        "**Örnek Uygulama**\n",
        "\n",
        "```\n",
        "bilgiKavramları = [\"indeks\", \"erişim\", \"koleksiyon\"]   # yeni bir liste oluşturur\n",
        "print(\"Erişim\" in bilgiKavramları)    # Çıktı: False\n",
        "\n",
        "bilgiSozlugu = {\"indeks\": \"index\", \"erişim\": \"access\", \"koleksiyon\": \"collection\"}   # yeni bir sozluk oluşturur\n",
        "print(\"koleksiyon\" in bilgiSozlugu.keys())  #  çıktı: True\n",
        "```\n",
        "\n"
      ]
    },
    {
      "cell_type": "code",
      "execution_count": null,
      "metadata": {
        "colab": {
          "base_uri": "https://localhost:8080/"
        },
        "id": "rCDZFucUYbGC",
        "outputId": "bdff24a5-e9e5-4fde-a8cb-26f05807589a"
      },
      "outputs": [
        {
          "name": "stdout",
          "output_type": "stream",
          "text": [
            "False\n",
            "True\n"
          ]
        }
      ],
      "source": [
        "# Örnek uygulamayı çalıştır\n",
        "\n",
        "bilgiKavramları = [\"indeks\", \"erişim\", \"koleksiyon\"]\n",
        "print(\"Erişim\" in bilgiKavramları)\n",
        "\n",
        "bilgiSozlugu = {\"indeks\": \"index\", \"erişim\": \"access\", \"koleksiyon\": \"collection\"}\n",
        "print(\"koleksiyon\" in bilgiSozlugu.keys())"
      ]
    },
    {
      "cell_type": "markdown",
      "metadata": {
        "id": "Pdn_zG-mq9Sx"
      },
      "source": [
        "**Görev:** Bir liste ve bir sözlük oluşturun. Liste içinde istediğiniz kelimeyi aratın ve sonucunu ekrana yazdırın! Oluşturduğunuz sözlüğün içinde hem anahtar kelime (keys()) hem de değer (values()) kontrolü yaptırın ve sonucunu ekrana yazdırın!"
      ]
    },
    {
      "cell_type": "code",
      "execution_count": null,
      "metadata": {
        "colab": {
          "base_uri": "https://localhost:8080/"
        },
        "id": "3Sl_XODcq1mL",
        "outputId": "531072a9-a87a-4e27-920e-ee59d4a83923"
      },
      "outputs": [
        {
          "name": "stdout",
          "output_type": "stream",
          "text": [
            "True\n",
            "False\n",
            "True\n"
          ]
        }
      ],
      "source": [
        "#yeniListe\n",
        "#yeniSozluk\n",
        "kitap = [\"aforizma\", \"od\", \"incir kuşları\"]\n",
        "print(\"od\" in kitap)\n",
        "sozluk = {\"Franz Kafka\" : \"Aforizmalar\" , \"Sinan Akyüz\" : \"İncir Kuşları\" , \"İskender Pala\" : \"OD\"}\n",
        "print(\"aforizmalar\" in sozluk.values())\n",
        "print(\"Franz Kafka\" in sozluk.keys())\n"
      ]
    },
    {
      "cell_type": "markdown",
      "metadata": {
        "id": "o68yxOoTx1vA"
      },
      "source": [
        "#Bölüm 05: Koşullu İfadeler\n",
        "\n",
        "Bu bölümde:\n",
        "\n",
        "*   Mantıksal operatörler,\n",
        "*   If cümleciği,\n",
        "*   Else ve elif kullanımı yer almatadır."
      ]
    },
    {
      "cell_type": "markdown",
      "metadata": {
        "id": "0R6l7TiLyI1H"
      },
      "source": [
        "##Mantıksal Operatörler\n",
        "Mantıksal operatörler ifadeleri karşılaştırır ve sonuçları *True* ya da *False* değerleriyle döndürür. Python'da üç tane mantıksal operatör bulunur:\n",
        "\n",
        "1. \"and\" operatörü: Her iki yanındaki ifadeler doğru olduğunda *True* değerini döndürür.\n",
        "2. \"or\" operatörü: Her iki tarafındaki ifadelerden en az bir ifade doğru olduğunda \"True\" değerini döndürür.\n",
        "3. \"not\" operatörü: İfadenin tam tersi olarak değerlendirilmesini sağlar.\n"
      ]
    },
    {
      "cell_type": "markdown",
      "metadata": {
        "id": "6HZvGmjG1rxk"
      },
      "source": [
        "**Örnek Uygulama**\n",
        "\n",
        "```\n",
        "kullaniciAdi = \"orcunmadran\"\n",
        "sifre = 123456\n",
        "print(kullaniciAdi == \"orcunmadran\" and sifre == 123456) # Çıktı: True\n",
        "\n",
        "kullaniciAdi = \"orcunmadran\"\n",
        "sifre = 123456\n",
        "print(kullaniciAdi == \"orcunmadran\" and not sifre == 123456) # Çıktı: False\n",
        "\n",
        "cepTel = \"05321234567\"\n",
        "ePosta = \"orcunmadran@gmail.com\"\n",
        "print(cepTel == \"\" or ePosta == \"orcunmadran@gmail.com\" ) # Çıktı: True\n",
        "```\n",
        "\n"
      ]
    },
    {
      "cell_type": "code",
      "execution_count": null,
      "metadata": {
        "colab": {
          "base_uri": "https://localhost:8080/"
        },
        "id": "2e6sRcxoayBf",
        "outputId": "54a46248-ad68-48f7-f470-a42e26ddab95"
      },
      "outputs": [
        {
          "output_type": "stream",
          "name": "stdout",
          "text": [
            "True\n",
            "False\n",
            "True\n"
          ]
        }
      ],
      "source": [
        "# Örnek uygulamayı çalıştır\n",
        "\n",
        "kullaniciAdi = \"orcunmadran\"\n",
        "sifre = 123456\n",
        "print(kullaniciAdi == \"orcunmadran\" and sifre == 123456)\n",
        "\n",
        "kullaniciAdi = \"orcunmadran\"\n",
        "sifre = 123456\n",
        "print(kullaniciAdi == \"orcunmadran\" and not sifre == 123456)\n",
        "\n",
        "cepTel = \"05321234567\"\n",
        "ePosta = \"orcunmadran@gmail.com\"\n",
        "print(cepTel == \"\" or ePosta == \"orcunmadran@gmail.com\" )"
      ]
    },
    {
      "cell_type": "markdown",
      "metadata": {
        "id": "nwkgY8TZ5NcI"
      },
      "source": [
        "**Görev:** Klavyeden girilen kullanıcı adı ve şifrenin kayıtlı bulunan kullanıcı adı ve şifre ile uyuşup uyuşmadığını kontrol edin ve sonucu ekrana yazdırın!"
      ]
    },
    {
      "cell_type": "code",
      "execution_count": null,
      "metadata": {
        "id": "XMHB4_dY3B1v"
      },
      "outputs": [],
      "source": [
        "#Sistemde yer alan bilgiler:\n",
        "sisKulAdi = \"yonetici\"\n",
        "sisKulSifre = \"bby162\"\n",
        "\n",
        "\n",
        "#Klavyeden girilen bilgiler:\n",
        "girKulAdi = input(\"Kullanıcı Adı: \")\n",
        "girKulSifre = input(\"Şifre: \")\n",
        "\n",
        "\n",
        "#Kontrol\n",
        "print(sisKulAdi == girKulAdi) and (sisKulSifre == girKulSifre)\n",
        "\n",
        "\n",
        "#Sonuç\n",
        "#print(sonuc)"
      ]
    },
    {
      "cell_type": "markdown",
      "metadata": {
        "id": "rd-bsVch9Dxb"
      },
      "source": [
        "## If Cümleciği\n",
        "\"If\" anahtar sözcüğü, verilen ifadenin doğru olup olmadığını kontrol ettikten sonra belirtilen kodu çalıştıran bir koşullu ifade oluşturmak için kullanılır. Python'da kod bloklarının tanımlanması için girinti kullanır."
      ]
    },
    {
      "cell_type": "markdown",
      "metadata": {
        "id": "VujnXgWV-B_u"
      },
      "source": [
        "**Örnek Uygulama**\n",
        "\n",
        "```\n",
        "acikKavramlar = [\"bilim\", \"erişim\", \"veri\", \"eğitim\"]\n",
        "kavram = input(\"Bir açık kavramı yazın: \")\n",
        "if kavram in acikKavramlar:\n",
        "  print(kavram + \" açık kavramlar listesinde yer alıyor!\")\n",
        "```\n",
        "\n"
      ]
    },
    {
      "cell_type": "code",
      "execution_count": null,
      "metadata": {
        "id": "EERabauFbSBB"
      },
      "outputs": [],
      "source": [
        "# Örnek uygulamayı çalıştır\n",
        "\n",
        "acikKavramlar = [\"bilim\", \"erişim\", \"veri\", \"eğitim\"]\n",
        "kavram = input(\"Bir açık kavramı yazın: \")\n",
        "if kavram in acikKavramlar:\n",
        "  print(kavram + \" açık kavramlar listesinde yer alıyor!\")"
      ]
    },
    {
      "cell_type": "markdown",
      "metadata": {
        "id": "mwAnF_eiHj-g"
      },
      "source": [
        "**Görev:** \"acikSozluk\" içinde yer alan anahtarları (keys) kullanarak eğer klavyeden girilen anahtar kelime sözlükte varsa açıklamasını ekrana yazdırın!"
      ]
    },
    {
      "cell_type": "code",
      "execution_count": null,
      "metadata": {
        "id": "-Knt3IBI_BRm"
      },
      "outputs": [],
      "source": [
        "acikSozluk = {\n",
        "    \"Açık Bilim\" : \"Bilimsel bilgi kamu malıdır. Bilimsel yayınlara ve verilere açık erişim bir haktır.\" ,\n",
        "    \"Açık Erişim\" : \"Kamu kaynakları ile yapılan araştırmalar sonucunda üretilen yayınlara ücretsiz erişim\" ,\n",
        "    \"Açık Veri\" : \"Kamu kaynakları ile yapılan araştırma sonucunda üretilen verilere ücretsiz ve yeniden kullanılabilir biçimde erişim\" \n",
        "    }\n",
        "anahtar = input(\"Anahtar Kelime: \")\n",
        "\n",
        "#If"
      ]
    },
    {
      "cell_type": "markdown",
      "metadata": {
        "id": "gBj0pSOoLvWu"
      },
      "source": [
        "## Else ve Elif Kullanımı\n",
        "\"If\" cümleciği içinde ikinci bir ifadenin doğruluğunun kontrolü için \"Elif\" ifadesi kullanılır. Doğruluğu sorgulanan ifadelerden hiçbiri *True* döndürmediği zaman çalışacak olan kod bloğu \"Else\" altında yer alan kod bloğudur. "
      ]
    },
    {
      "cell_type": "markdown",
      "metadata": {
        "id": "k-jKSvQcMeu6"
      },
      "source": [
        "**Örnek Uygulama**\n",
        "\n",
        "```\n",
        "gunler = [\"Pazartesi\", \"Çarşamba\", \"Cuma\"]\n",
        "girilen = input(\"Gün giriniz: \")\n",
        "if girilen == gunler[0]:\n",
        "  print(\"Programlama Dilleri\")\n",
        "elif girilen == gunler[1]:\n",
        "  print(\"Kataloglama\")\n",
        "elif girilen == gunler[2]:\n",
        "  print(\"Bilimsel İletişim\")\n",
        "else :\n",
        "  print(\"Kayıtlı bir gün bilgisi girmediniz!\")\n",
        "```\n",
        "\n"
      ]
    },
    {
      "cell_type": "code",
      "execution_count": null,
      "metadata": {
        "id": "hVT2r9_tbnis"
      },
      "outputs": [],
      "source": [
        "# Örnek uygulamayı çalıştır\n",
        "\n",
        "gunler = [\"Pazartesi\", \"Çarşamba\", \"Cuma\"]\n",
        "girilen = input(\"Gün giriniz: \")\n",
        "if girilen == gunler[0]:\n",
        "  print(\"Programlama Dilleri\")\n",
        "elif girilen == gunler[1]:\n",
        "  print(\"Kataloglama\")\n",
        "elif girilen == gunler[2]:\n",
        "  print(\"Bilimsel İletişim\")\n",
        "else :\n",
        "  print(\"Kayıtlı bir gün bilgisi girmediniz!\")"
      ]
    },
    {
      "cell_type": "markdown",
      "metadata": {
        "id": "5JzZRGxWr3Sm"
      },
      "source": [
        "**Görev:** Klavyeden girilen yaş bilgisini kullanarak ekrana aşağıdaki mesajları yazdır:\n",
        "\n",
        "*   21 yaş altı ve 64 yaş üstü kişilere: \"Sokağa çıkma yasağı bulunmaktadır!\"\n",
        "*   Diğer tüm kişilere: \"Sokağa çıkma yasağı yoktur!\"\n",
        "*   Klavyeden yaş harici bir bilgi girişi yapıldığında: \"Yaşınızı rakam olarak giriniz!\""
      ]
    },
    {
      "cell_type": "code",
      "execution_count": null,
      "metadata": {
        "id": "vEFr1ub_thtK"
      },
      "outputs": [],
      "source": [
        "yas = int(input(\"Yaşınızı giriniz: \"))\n",
        "\n"
      ]
    },
    {
      "cell_type": "markdown",
      "metadata": {
        "id": "mLq4XzRPHdHl"
      },
      "source": [
        "# Bölüm 06: Döngüler\n",
        "\n",
        "Bu bölümde:\n",
        "\n",
        "*   for döngüsü,\n",
        "*   Metin katarlarında for döngüsü kullanımı,\n",
        "*   while döngüsü,\n",
        "*   break anahtar kelimesi,\n",
        "*   continue anahtar kelimesi yer almaktadır.\n",
        "\n"
      ]
    },
    {
      "cell_type": "markdown",
      "metadata": {
        "id": "yuku4yibHvy5"
      },
      "source": [
        "## for Döngüsü\n",
        "for döngüleri belirli komut satırını ya da satırlarını yinelemek (tekrar etmek) için kullanılır. Her yinelemede, for döngüsünde tanımlanan değişken listedeki bir sonraki değere otomatik olarak atanacaktır."
      ]
    },
    {
      "cell_type": "markdown",
      "metadata": {
        "id": "JjwFU3rcIfzO"
      },
      "source": [
        "**Örnek Uygulama**\n",
        "\n",
        "```\n",
        "for i in range(5):  # i değerine 0-4 arası indeks değerleri otomatik olarak atanır\n",
        "    print(i)  # Çıktı: Bu komut satırı toplam 5 kere tekrarlanır ve her satırda yeni i değeri yazdırılır\n",
        "\n",
        "\n",
        "konular = [\"Açık Bilim\", \"Açık Erişim\", \"Açık Veri\"]   # yeni bir liste oluşturur\n",
        "\n",
        "for konu in konular:\n",
        "    print(konu) #Çıktı: Her bir liste öğesi alt alta satırlara yazdırılır\n",
        "\n",
        "```\n",
        "\n"
      ]
    },
    {
      "cell_type": "code",
      "execution_count": null,
      "metadata": {
        "id": "ZIm4g511cyvz"
      },
      "outputs": [],
      "source": [
        "# Örnek uygulmayı çalıştır\n",
        "\n",
        "for i in range(5):\n",
        "    print(i)"
      ]
    },
    {
      "cell_type": "code",
      "execution_count": null,
      "metadata": {
        "id": "Uikl2CnDc8rE"
      },
      "outputs": [],
      "source": [
        "# Örnek uygulmayı çalıştır\n",
        "\n",
        "konular = [\"Açık Bilim\", \"Açık Erişim\", \"Açık Veri\"]\n",
        "\n",
        "for konu in konular:\n",
        "    print(konu)"
      ]
    },
    {
      "cell_type": "markdown",
      "metadata": {
        "id": "cbpRcW1aKFYu"
      },
      "source": [
        "**Görev:** Bir liste oluşturun. Liste öğelerini \"for\" döngüsü kullanarak ekrana yazdırın!"
      ]
    },
    {
      "cell_type": "code",
      "execution_count": null,
      "metadata": {
        "id": "ry1L7GJ_J_wZ"
      },
      "outputs": [],
      "source": [
        "#liste\n"
      ]
    },
    {
      "cell_type": "markdown",
      "metadata": {
        "id": "rHicjY1WKk5o"
      },
      "source": [
        "## Metin Katarlarında for Döngüsü Kullanımı\n",
        "Metin Katarları üzerinde gerçekleştirilebilecek işlemler Python'daki listelerle büyük benzerlik taşırlar. Metin Katarını oluşturan öğeler (harfler) liste elemanları gibi \"for\" döngüsü yardımıyla ekrana yazdırılabilir. "
      ]
    },
    {
      "cell_type": "markdown",
      "metadata": {
        "id": "UlkXx7vOLdhn"
      },
      "source": [
        "**Örnek Uygulama**\n",
        "\n",
        "```\n",
        "cumle = \"Bisiklet hem zihni hem bedeni dinç tutar!\"\n",
        "\n",
        "for harf in cumle:    # Cümledeki her bir harfi ekrana satır satır yazdırır\n",
        "    print(harf)\n",
        "```\n",
        "\n"
      ]
    },
    {
      "cell_type": "code",
      "execution_count": null,
      "metadata": {
        "id": "VLDA2SWAdUHz"
      },
      "outputs": [],
      "source": [
        "# Örnek uygulamayı çalıştır\n",
        "\n",
        "cumle = \"Bisiklet hem zihni, hem bedeni dinç tutar!\"\n",
        " \n",
        "for harf in cumle:\n",
        "    print(harf)"
      ]
    },
    {
      "cell_type": "markdown",
      "metadata": {
        "id": "y_7DFSavMJO4"
      },
      "source": [
        "**Görev:** İçinde metin katarı bulunan bir değişken oluşturun. Bu değişkende yer alan her bir harfi bir satıra gelecek şekilde \"for\" döngüsü ile ekrana yazdırın!"
      ]
    },
    {
      "cell_type": "code",
      "execution_count": null,
      "metadata": {
        "id": "83a-E21mMEUr"
      },
      "outputs": [],
      "source": [
        "#degisken\n"
      ]
    },
    {
      "cell_type": "markdown",
      "metadata": {
        "id": "mSp_IsCyM7Ed"
      },
      "source": [
        "## while Döngüsü\n",
        "\"While\" döngüsü \"if\" cümleciğinin ifade şekline benzer. Koşul doğruysa döngüye bağlı kod satırı ya da satırları yürütülür (çalıştırılır). Temel fark, koşul doğru (True) olduğu olduğu sürece bağlı kod satırı ya da satırları çalışmaya devam eder."
      ]
    },
    {
      "cell_type": "markdown",
      "metadata": {
        "id": "O0pVXw8jOGjc"
      },
      "source": [
        "**Örnek Uygulama**\n",
        "\n",
        "```\n",
        "deger = 1\n",
        "\n",
        "while deger <= 10:\n",
        "    print(deger)    # Bu satır 10 kez tekrarlanacak\n",
        "    deger += 1      # Bu satır da 10 kez tekrarlanacak\n",
        "\n",
        "print(\"Program bitti\")  # Bu satır sadece bir kez çalıştırılacak\n",
        "```\n",
        "\n"
      ]
    },
    {
      "cell_type": "code",
      "execution_count": null,
      "metadata": {
        "id": "GTRNt3f4dxaZ"
      },
      "outputs": [],
      "source": [
        "# Örnek uygulamayı çalıştır\n",
        "\n",
        "deger = 1\n",
        "\n",
        "while deger <= 10:\n",
        "    print(deger)\n",
        "    deger += 1\n",
        "    \n",
        "print(\"Program bitti\")"
      ]
    },
    {
      "cell_type": "markdown",
      "metadata": {
        "id": "CBGdLeJbSEev"
      },
      "source": [
        "## break Anahtar Kelimesi\n",
        "Asla bitmeyen döngüye sonsuz döngü adı verilir. Döngü koşulu daima doğru (True) olursa, böyle bir döngü sonsuz olur. \"Break\" anahtar kelimesi geçerli döngüden çıkmak için kullanılır."
      ]
    },
    {
      "cell_type": "markdown",
      "metadata": {
        "id": "ihLhjXWcSnv8"
      },
      "source": [
        "**Örnek Uygulama**\n",
        "\n",
        "```\n",
        "sayi = 0\n",
        "\n",
        "while True:  # bu döngü sonsuz bir döngüdür\n",
        "    print(sayi)\n",
        "    sayi += 1\n",
        "    if sayi >= 5:\n",
        "        break   # sayı değeri 5 olduğunda döngü otomatik olarak sonlanır\n",
        "```\n",
        "\n"
      ]
    },
    {
      "cell_type": "code",
      "execution_count": null,
      "metadata": {
        "id": "xXDmHHe2TVLJ"
      },
      "outputs": [],
      "source": [
        "# Örnek Uygulamayı çalıştır\n",
        "\n",
        "sayi = 0\n",
        "\n",
        "while True:\n",
        "    print(sayi)\n",
        "    sayi += 1\n",
        "    if sayi >= 5:\n",
        "        break"
      ]
    },
    {
      "cell_type": "markdown",
      "metadata": {
        "id": "ySFedvaOTqjR"
      },
      "source": [
        "## continue Anahtar Kelimesi\n",
        "\"continue\" anahtar kelimesi, o anda yürütülen döngü için döngü içindeki kodun geri kalanını atlamak ve \"for\" veya \"while\" deyimine geri dönmek için kullanılır."
      ]
    },
    {
      "cell_type": "markdown",
      "metadata": {
        "id": "Ge8XX1mbT0Me"
      },
      "source": [
        "\n",
        "\n",
        "```\n",
        "for i in range(5):\n",
        "    if i == 3:\n",
        "        continue   # i değeri 3 olduğu anda altta yer alan \"print\" komutu atlanıyor.\n",
        "    print(i)\n",
        "```\n",
        "\n"
      ]
    },
    {
      "cell_type": "code",
      "execution_count": null,
      "metadata": {
        "id": "8kRu3DpFT4pe"
      },
      "outputs": [],
      "source": [
        "# Örnek Uygulamayı çalıştır\n",
        "\n",
        "for i in range(5):\n",
        "    if i == 3:\n",
        "        continue\n",
        "    print(i)"
      ]
    },
    {
      "cell_type": "markdown",
      "metadata": {
        "id": "bvvGF4PTO3MX"
      },
      "source": [
        "**Görev: Tahmin Oyunu**\n",
        "\n",
        "\"while\" döngüsü kullanarak bir tahmin oyunu tasarla. Bu tahmin oyununda, önceden belirlenmiş olan kelime ile klavyeden girilen kelime karşılaştırılmalı, tahmin doğru ise oyun \"Bildiniz..!\" mesajı ile sonlanmalı, yanlış ise tahmin hakkı bir daha verilmeli."
      ]
    },
    {
      "cell_type": "code",
      "execution_count": null,
      "metadata": {
        "id": "aPxS3byjrjEN"
      },
      "outputs": [],
      "source": [
        "#Tahmin Oyunu\n",
        "kelime = \"bilgi\"\n",
        "tahmin = \"\""
      ]
    },
    {
      "cell_type": "markdown",
      "metadata": {
        "id": "yWfAoCUc-D9d"
      },
      "source": [
        "# Bölüm 07: Fonksiyonlar"
      ]
    },
    {
      "cell_type": "markdown",
      "metadata": {
        "id": "YJrL9elb-LvL"
      },
      "source": [
        "## Fonksiyon Tanımlama (Definition)\n",
        "Fonksiyonlar, yazılan kodu faydalı bloklara bölmenin, daha okunabilir hale getirmenin ve tekrar kullanmaya yardımcı olmanın kullanışlı bir yoludur. Fonksiyonlar \"def\" anahtar sözcüğü ve ardından fonksiyonun adı kullanılarak tanımlanır."
      ]
    },
    {
      "cell_type": "markdown",
      "metadata": {
        "id": "AY162tKL-6Nd"
      },
      "source": [
        "**Örnek Uygulama**\n",
        "\n",
        "```\n",
        "def merhaba_dunya():  # fonksiyon tanımlama, isimlendirme\n",
        "    print(\"Merhaba Dünya!\") #fonksiyona dahil kod satırları\n",
        "\n",
        "for i in range(5):\n",
        "    merhaba_dunya()   # fonksiyon 5 kere çağırılacak\n",
        "```\n",
        "\n"
      ]
    },
    {
      "cell_type": "code",
      "execution_count": null,
      "metadata": {
        "id": "iwMnSTNMevh8"
      },
      "outputs": [],
      "source": [
        "# Örnek uygulamayı çalıştır\n",
        "\n",
        "def merhaba_dunya():  # fonksiyon tanımlama, isimlendirme\n",
        "    print(\"Merhaba Dünya!\") #fonksiyona dahil kod satırları\n",
        "\n",
        "for i in range(5):\n",
        "    merhaba_dunya()   # fonksiyon 5 kere çağırılacak"
      ]
    },
    {
      "cell_type": "markdown",
      "metadata": {
        "id": "UnHQO9MR_pII"
      },
      "source": [
        "##Fonksiyolarda Parametre Kullanımı\n",
        "Fonksiyon parametreleri, fonksiyon adından sonra parantez () içinde tanımlanır. Parametre, iletilen bağımsız değişken için değişken adı görevi görür."
      ]
    },
    {
      "cell_type": "markdown",
      "metadata": {
        "id": "IDgYf17j_4fu"
      },
      "source": [
        "**Örnek Uygulama**\n",
        "\n",
        "```\n",
        "def foo(x):    # x bir fonksiyon parametresidir\n",
        "    print(\"x = \" + str(x))\n",
        "\n",
        "foo(5)   # 5 değeri fonksiyona iletilir ve değer olarak kullanılır.\n",
        "```\n",
        "\n"
      ]
    },
    {
      "cell_type": "code",
      "execution_count": null,
      "metadata": {
        "id": "i2IW-s8wfB3e"
      },
      "outputs": [],
      "source": [
        "# Örnek uygulamayı çalıştır\n",
        "\n",
        "def foo(x):\n",
        "    print(\"x = \" + str(x))\n",
        "\n",
        "foo(5)"
      ]
    },
    {
      "cell_type": "markdown",
      "metadata": {
        "id": "53DY9zKcgPHD"
      },
      "source": [
        "**Görev:** *karsila* fonksiyonunun tetiklenmesi için gerekli kod ve parametleri ekle!"
      ]
    },
    {
      "cell_type": "code",
      "execution_count": null,
      "metadata": {
        "id": "BKerIDjcpfyE"
      },
      "outputs": [],
      "source": [
        "def karsila(kAd, kSoyad):\n",
        "  print(\"Hoşgeldin, %s %s\" % (kAd, kSoyad))\n",
        "\n"
      ]
    },
    {
      "cell_type": "markdown",
      "metadata": {
        "id": "LKBMne6BAhid"
      },
      "source": [
        "##Return Değeri\n",
        "Fonksiyonlar, \"return\" anahtar sözcüğünü kullanarak fonksiyon sonucunda bir değer döndürebilir. Döndürülen değer bir değişkene atanabilir veya sadece örneğin değeri yazdırmak için kullanılabilir."
      ]
    },
    {
      "cell_type": "markdown",
      "metadata": {
        "id": "fJuWpMooBV0x"
      },
      "source": [
        "**Örnek Uygulama**\n",
        "\n",
        "```\n",
        "def iki_sayi_topla(a, b):\n",
        "    return a + b    # hesaplama işleminin sonucu değer olarak döndürülüyor\n",
        "\n",
        "print(iki_sayi_topla(3, 12))  # ekrana işlem sonucu yazdırılacak\n",
        "```\n",
        "\n"
      ]
    },
    {
      "cell_type": "code",
      "execution_count": null,
      "metadata": {
        "id": "xRukn_KfrsA3"
      },
      "outputs": [],
      "source": [
        "# Örnek uygulamayı çalıştır\n",
        "\n",
        "def iki_sayi_topla(a, b):\n",
        "    return a + b\n",
        "\n",
        "print(iki_sayi_topla(3, 12))"
      ]
    },
    {
      "cell_type": "markdown",
      "metadata": {
        "id": "FXXW68lICB7S"
      },
      "source": [
        "##Varsayılan Parametreler\n",
        "Bazen bir veya daha fazla fonksiyon parametresi için varsayılan bir değer belirtmek yararlı olabilir. Bu, ihtiyaç duyulan parametrelerden daha az argümanla çağrılabilen bir fonksiyon oluşturur."
      ]
    },
    {
      "cell_type": "markdown",
      "metadata": {
        "id": "fCHKSZpcCglT"
      },
      "source": [
        "**Örnek Uygulama**\n",
        "\n",
        "```\n",
        "def iki_sayi_carp(a, b=2):\n",
        "    return a * b\n",
        "\n",
        "print(iki_sayi_carp(3, 47)) # verilen iki degeri de kullanır \n",
        "print(iki_sayi_carp(3))    # verilmeyen 2. değer yerine varsayılanı kullanır\n",
        "```\n",
        "\n"
      ]
    },
    {
      "cell_type": "code",
      "execution_count": null,
      "metadata": {
        "id": "Gy_5nrP6hHOR"
      },
      "outputs": [],
      "source": [
        "# Örnek uygulamayı çalıştır\n",
        "\n",
        "def iki_sayi_carp(a, b=2):\n",
        "    return a * b\n",
        "\n",
        "print(iki_sayi_carp(3, 47))\n",
        "print(iki_sayi_carp(3))"
      ]
    },
    {
      "cell_type": "markdown",
      "metadata": {
        "id": "8iTlloLEh59b"
      },
      "source": [
        "**Örnek Uygulama: Sayısal Loto**\n",
        "\n",
        "Aşağıda temel yapısı aynı olan iki *sayısal loto* uygulaması bulunmaktadır: Fonksiyonsuz ve fonksiyonlu.\n",
        "\n",
        "İlk sayısal loto uygulamasında herhangi bir fonksiyon kullanımı yoktur. Her satırda 1-49 arası 6 adet sayının yer aldığı 6 satır oluşturur.\n",
        "\n",
        "İkinci sayısal loto uygulamsında ise *tahminEt* isimli bir fonksiyon yer almaktadır. Bu fonksiyon varsayılan parametrelere sahiptir ve bu parametreler fonksiyon çağırılırken değiştirilebilir. Böylece ilk uygulamadan çok daha geniş seçenekler sunabilir bir hale gelmiştir.\n",
        "\n"
      ]
    },
    {
      "cell_type": "code",
      "execution_count": null,
      "metadata": {
        "id": "W4Z_Rgl_hq1t"
      },
      "outputs": [],
      "source": [
        "#Sayısal Loto örnek uygulama (fonksiyonsuz)\n",
        "\n",
        "from random import randint\n",
        "i = 0\n",
        "secilenler = [0,0,0,0,0,0]\n",
        "for rastgele in secilenler:\n",
        "    while i < len(secilenler):\n",
        "        secilen = randint(1, 49)\n",
        "        if secilen not in secilenler:\n",
        "            secilenler[i] = secilen\n",
        "            i+=1\n",
        "    print(sorted(secilenler))\n",
        "    i=0"
      ]
    },
    {
      "cell_type": "code",
      "execution_count": null,
      "metadata": {
        "id": "PRtF6Bd_b2Xg"
      },
      "outputs": [],
      "source": [
        "#Sayısal Loto örnek uygulama (fonksiyonlu)\n",
        "\n",
        "from random import randint\n",
        "def tahminEt(rakam=6, satir=6, baslangic=1, bitis=49):\n",
        "  i = 0\n",
        "  secilenler = []\n",
        "  for liste in range(rakam):\n",
        "    secilenler.append(0)\n",
        "  for olustur in range(satir):\n",
        "      while i < len(secilenler):\n",
        "          secilen = randint(baslangic, bitis)\n",
        "          if secilen not in secilenler:\n",
        "              secilenler[i] = secilen\n",
        "              i+=1\n",
        "      print(sorted(secilenler))\n",
        "      i=0\n",
        "tahminEt(10,6,1,60)"
      ]
    },
    {
      "cell_type": "markdown",
      "metadata": {
        "id": "lpT_y9p9DB_U"
      },
      "source": [
        "**Görev:** Bu görev genel olarak fonksiyon bölümünü kapsamaktadır.\n",
        "\n",
        "Daha önce yapmış olduğunuz \"Adam Asmaca\" projesini (ya da aşağıda yer alan örneği) fonksiyonlar kullanarak oyun bittiğinde tekrar başlatmaya gerek duyulmadan yeniden oynanabilmesine imkan sağlayacak şekilde yeniden kurgulayın.\n",
        "\n",
        "Oyunun farklı sekansları için farklı fonksiyonlar tanımlayarak oyunu daha optimize hale getirmeye çalışın.\n",
        "\n",
        "Aşağıda bir adam asmaca oyununun temel özellikerine sahip bir örnek yer almaktadır.\n",
        "\n"
      ]
    },
    {
      "cell_type": "code",
      "execution_count": null,
      "metadata": {
        "id": "iGDblCXpkeGZ"
      },
      "outputs": [],
      "source": [
        "#Fonksiyonsuz Adam Asmaca\n",
        "\n",
        "from random import choice\n",
        "\n",
        "adamCan = 3\n",
        "\n",
        "kelimeler = [\"bisiklet\", \"triatlon\", \"yüzme\", \"koşu\"]\n",
        "secilenKelime = choice(kelimeler)\n",
        "print(secilenKelime)\n",
        "dizilenKelime = []\n",
        "for diz in secilenKelime:\n",
        "    dizilenKelime.append(\"_\")\n",
        "print(dizilenKelime)\n",
        "\n",
        "while adamCan > 0:\n",
        "    girilenHarf = input(\"Bir harf giriniz: \")\n",
        "    canKontrol = girilenHarf in secilenKelime\n",
        "    if canKontrol == False:\n",
        "        adamCan-=1\n",
        "    i = 0\n",
        "    for kontrol in secilenKelime:\n",
        "        if secilenKelime[i] == girilenHarf:\n",
        "            dizilenKelime[i] = girilenHarf\n",
        "        i+=1\n",
        "    print(dizilenKelime)\n",
        "    print(\"Kalan can: \"+ str(adamCan))"
      ]
    },
    {
      "cell_type": "code",
      "execution_count": null,
      "metadata": {
        "id": "JfxS1H8rEKuR"
      },
      "outputs": [],
      "source": [
        "#Fonksiyonlu Adam Asmaca\n"
      ]
    },
    {
      "cell_type": "markdown",
      "metadata": {
        "id": "Uocer9uZoa_6"
      },
      "source": [
        "# Bölüm 08: Sınıflar ve Nesneler\n",
        "\n",
        "Bu bölümde:\n",
        "\n",
        "*   Sınıf ve nesne tanımlama,\n",
        "*   Değişkenlere erişim,\n",
        "*   self parametresi,\n",
        "*   init metodu yer almaktadır."
      ]
    },
    {
      "cell_type": "markdown",
      "metadata": {
        "id": "nSklAub4oh9p"
      },
      "source": [
        "## Sınıf ve Nesne Tanımlama\n",
        "Bir nesne değişkenleri ve fonksiyonları tek bir varlıkta birleştirir. Nesneler değişkenlerini ve fonksiyonlarını sınıflardan alır. Sınıflar bir anlamda nesnelerinizi oluşturmak için kullanılan şablonlardır. Bir nesneyi, fonksiyonların yanı sıra veri içeren tek bir veri yapısı olarak düşünebilirsiniz. Nesnelerin fonksiyonlarına yöntem (metod) denir.\n",
        "\n",
        "**İpucu:** Sınıf isimlerinin baş harfi büyük yazılarak Python içindeki diğer öğelerden (değişken, fonksiyon vb.) daha rahat ayırt edilmeleri sağlanır."
      ]
    },
    {
      "cell_type": "markdown",
      "metadata": {
        "id": "ShzCIh8VpgM0"
      },
      "source": [
        "**Örnek Uygulama**\n",
        "\n",
        "\n",
        "```\n",
        "class BenimSinifim: # yeni bir sınıfın tanımlanması\n",
        "    \n",
        "    bsDegisken = 4  # sınıf içinde yer alan bir değişken\n",
        "\n",
        "    def bsFonksiyon(self): #sınıf içinde yer alan bir fonksiyon\n",
        "        print(\"Benim sınıfımın fonksiyonundan Merhaba!\")\n",
        "\n",
        "benimNesnem = BenimSinifim()\n",
        "```\n",
        "\n"
      ]
    },
    {
      "cell_type": "markdown",
      "metadata": {
        "id": "5NwBvq6S0r4v"
      },
      "source": [
        "##Değişkenlere ve Fonksiyonlara Erişim\n",
        "Sınıftan örneklenen bir nesnenin içindeki bir değişkene ya da fonksiyona erişmek için öncelikle nesnenin adı daha sonra ise değişkenin ya da fonkiyonun adı çağırılmalıdır (Ör: nesneAdi.degiskenAdi). Bir sınıfın farklı örnekleri (nesneleri) içinde tanımlanan değişkenlerin değerleri değiştirebilir."
      ]
    },
    {
      "cell_type": "markdown",
      "metadata": {
        "id": "NAcj1XjQn89D"
      },
      "source": [
        "**Örnek Uygulama 1**\n",
        "\n",
        "\n",
        "```\n",
        "class BenimSinifim:   # yeni bir sınıf oluşturur\n",
        "    bsDegisken = 3    # sınıfın içinde bir değişken tanımlar\n",
        "    def bsFonksiyon(self):  #sınıfın içinde bir fonksiyon tanımlar\n",
        "        print(\"Benim sınıfımın fonksiyonundan Merhaba!\")\n",
        "\n",
        "benimNesnem = BenimSinifim()  #sınıftan yeni bir nesne oluşturur\n",
        "\n",
        "for i in range(benimNesnem.bsDegisken):  #  oluşturulan nesne üzerinden değişkene ve fonksiyona ulaşılır\n",
        "  benimNesnem.bsFonksiyon()\n",
        "\n",
        "benimNesnem.bsDegisken = 5  #  sınıfın içinde tanımlanan değişkene yeni değer atanması\n",
        "\n",
        "for i in range(benimNesnem.bsDegisken):\n",
        "  benimNesnem.bsFonksiyon()\n",
        "```\n",
        "\n"
      ]
    },
    {
      "cell_type": "code",
      "execution_count": null,
      "metadata": {
        "id": "LpNM7SptoLK-"
      },
      "outputs": [],
      "source": [
        "# Örnek uygulama 1'i gözlemleyelim\n",
        "\n",
        "class BenimSinifim:   \n",
        "    bsDegisken = 3\n",
        "    def bsFonksiyon(self):\n",
        "        print(\"Benim sınıfımın fonksiyonundan Merhaba!\")\n",
        "\n",
        "benimNesnem = BenimSinifim()\n",
        "\n",
        "for i in range(benimNesnem.bsDegisken):\n",
        "  benimNesnem.bsFonksiyon()\n",
        "\n",
        "benimNesnem.bsDegisken = 5\n",
        "\n",
        "for i in range(benimNesnem.bsDegisken):\n",
        "  benimNesnem.bsFonksiyon()"
      ]
    },
    {
      "cell_type": "markdown",
      "metadata": {
        "id": "E0v9sloQ22oP"
      },
      "source": [
        "**Örnek Uygulama 2**\n",
        "\n",
        "\n",
        "```\n",
        "class Bisiklet:\n",
        "    renk = \"Kırmızı\"\n",
        "    vites = 1\n",
        "    def ozellikler(self):\n",
        "        ozellikDetay = \"Bu bisiklet %s renkli ve %d viteslidir.\" % (self.renk, self.vites)\n",
        "        return ozellikDetay\n",
        "\n",
        "bisiklet1 = Bisiklet()\n",
        "bisiklet2 = Bisiklet()\n",
        "\n",
        "print(\"Bisiklet 1: \" + bisiklet1.ozellikler())\n",
        "\n",
        "bisiklet2.renk = \"Sarı\"\n",
        "bisiklet2.vites = 22\n",
        "\n",
        "print(\"Bisiklet 2: \" + bisiklet2.ozellikler())\n",
        "```\n",
        "\n"
      ]
    },
    {
      "cell_type": "code",
      "execution_count": null,
      "metadata": {
        "id": "RPIbXyYvrTlk"
      },
      "outputs": [],
      "source": [
        "# Örnek uygulama 2'i gözlemleyelim\n",
        "\n",
        "class Bisiklet:\n",
        "    renk = \"Kırmızı\"\n",
        "    vites = 1\n",
        "    def ozellikler(self):\n",
        "        ozellikDetay = \"Bu bisiklet %s renkli ve %d viteslidir.\" % (self.renk, self.vites)\n",
        "        return ozellikDetay\n",
        "\n",
        "bisiklet1 = Bisiklet()\n",
        "bisiklet2 = Bisiklet()\n",
        "\n",
        "print(\"Bisiklet 1: \" + bisiklet1.ozellikler())\n",
        "\n",
        "bisiklet2.renk = \"Sarı\"\n",
        "bisiklet2.vites = 22\n",
        "\n",
        "print(\"Bisiklet 2: \" + bisiklet2.ozellikler())"
      ]
    },
    {
      "cell_type": "markdown",
      "metadata": {
        "id": "o8f-zk-y3KvD"
      },
      "source": [
        "##self Parametresi\n",
        "\"self\" parametresi bir Python kuralıdır. \"self\", herhangi bir sınıf yöntemine iletilen ilk parametredir. Python, oluşturulan nesneyi belirtmek için self parametresini kullanır."
      ]
    },
    {
      "cell_type": "markdown",
      "metadata": {
        "id": "ZoxlmJep4C6j"
      },
      "source": [
        "**Örnek Uygulama**\n",
        "\n",
        "Aşağıdaki örnek uygulamada **Bisiklet** sınıfının değişkenleri olan *renk* ve *bisiklet*, sınıf içindeki fonksiyonda **self** parametresi ile birlikte kullanılmaktadır. Bu kullanım şekli sınıftan oluşturulan nesnelerin tanımlanmış değişkenlere ulaşabilmeleri için gereklidir.\n",
        "```\n",
        "class Bisiklet:\n",
        "    renk = \"Kırmızı\"\n",
        "    vites = 1\n",
        "    def ozellikler(self):\n",
        "        ozellikDetay = \"Bu bisiklet %s renkli ve %d viteslidir.\" % (self.renk, self.vites)\n",
        "        return ozellikDetay\n",
        "```\n",
        "\n"
      ]
    },
    {
      "cell_type": "code",
      "execution_count": null,
      "metadata": {
        "id": "2gqeiPB9ys1l"
      },
      "outputs": [],
      "source": [
        "# Örnek uygulamada \"self\" tanımlaması yapılmadığı zaman döndürülen hata kodunu inceleyin\n",
        "\n",
        "class Bisiklet:\n",
        "    renk = \"Kırmızı\"\n",
        "    vites = 1\n",
        "    def ozellikler(self):\n",
        "        ozellikDetay = \"Bu bisiklet %s renkli ve %d viteslidir.\" % (renk, vites) #tanımlama eksik\n",
        "        return ozellikDetay\n",
        "\n",
        "bisiklet1 = Bisiklet()\n",
        "bisiklet2 = Bisiklet()\n",
        "\n",
        "print(\"Bisiklet 1: \" + bisiklet1.ozellikler())\n",
        "\n",
        "bisiklet2.renk = \"Sarı\"\n",
        "bisiklet2.vites = 22\n",
        "\n",
        "print(\"Bisiklet 2: \" + bisiklet2.ozellikler())"
      ]
    },
    {
      "cell_type": "markdown",
      "metadata": {
        "id": "1B4iU-FI4wRy"
      },
      "source": [
        "##__init__ Metodu\n",
        "__init__ fonksiyonu, oluşturduğu nesneleri başlatmak için kullanılır. init \"başlat\" ın kısaltmasıdır. __init__() her zaman yaratılan nesneye atıfta bulunan en az bir argüman alır: \"self\".\n"
      ]
    },
    {
      "cell_type": "markdown",
      "metadata": {
        "id": "FMtmqmiD44ZH"
      },
      "source": [
        "**Örnek Uygulama**\n",
        "\n",
        "Aşağıdaki örnek uygulamada *sporDali* sınıfının içinde tanımlanan **init** fonksiyonu, sınıf oluşturulduğu anda çalışmaya başlamaktadır. Fonksiyonun ayrıca çağırılmasına gerek kalmamıştır.\n",
        "```\n",
        "class sporDali:\n",
        "  sporlar = [\"Yüzme\", \"Bisiklet\", \"Koşu\"]\n",
        "  def __init__(self):\n",
        "    for spor in self.sporlar:\n",
        "      print(spor + \" bir triatlon branşıdır.\")\n",
        "\n",
        "triatlon = sporDali()\n",
        "```\n",
        "\n"
      ]
    },
    {
      "cell_type": "code",
      "execution_count": null,
      "metadata": {
        "id": "5zwuicQu0wm7"
      },
      "outputs": [],
      "source": [
        "# Örnek uygulamayı çalıştır\n",
        "\n",
        "class sporDali:\n",
        "  sporlar = [\"Yüzme\", \"Bisiklet\", \"Koşu\"]\n",
        "  def __init__(self):\n",
        "    for spor in self.sporlar:\n",
        "      print(spor + \" bir triatlon branşıdır.\")\n",
        "\n",
        "triatlon = sporDali()"
      ]
    },
    {
      "cell_type": "code",
      "execution_count": null,
      "metadata": {
        "id": "pLa87Qj04W1C"
      },
      "outputs": [],
      "source": [
        "# Örnek uygulamayı > Duatlon\n",
        "\n",
        "class sporDali:\n",
        "  sporlar = [\"Yüzme\", \"Bisiklet\", \"Koşu\"]\n",
        "  def __init__(self):\n",
        "    for spor in self.sporlar:\n",
        "      print(spor + \" bir triatlon branşıdır.\")\n",
        "\n",
        "triatlon = sporDali()"
      ]
    },
    {
      "cell_type": "markdown",
      "metadata": {
        "id": "UbKP1Z_c0d9k"
      },
      "source": [
        "#Bölüm 09: Modüller ve Paketler"
      ]
    },
    {
      "cell_type": "markdown",
      "metadata": {
        "id": "KyJG2zkhzLD7"
      },
      "source": [
        "##Modülün İçe Aktarılması\n",
        "Python'daki modüller, Python tanımlarını (sınıflar, fonksiyonlar vb.) ve ifadelerini (değişkenler, listeler, sözlükler vb.) içeren .py uzantısına sahip Python dosyalarıdır.\n",
        "\n",
        "Modüller, *import* anahtar sözcüğü ve uzantı olmadan dosya adı kullanılarak içe aktarılır. Bir modül, çalışan bir Python betiğine ilk kez yüklendiğinde, modüldeki kodun bir kez çalıştırılmasıyla başlatılır."
      ]
    },
    {
      "cell_type": "markdown",
      "metadata": {
        "id": "15prWEGSz1SN"
      },
      "source": [
        "**Örnek Uygulama**\n",
        "\n",
        "\n",
        "\n",
        "```\n",
        "#bisiklet.py adlı modülün içeriği\n",
        "\"\"\"\n",
        "Bu modül içinde Bisiklet sınıfı yer almaktadır.\n",
        "\"\"\"\n",
        "class Bisiklet:\n",
        "    renk = \"Kırmızı\"\n",
        "    vites = 1\n",
        "    def ozellikler(self):\n",
        "        ozellikDetay = \"Bu bisiklet %s renkli ve %d viteslidir.\" % (self.renk, self.vites)\n",
        "        return ozellikDetay\n",
        "```\n",
        "\n",
        "\n",
        "\n",
        "```\n",
        "#bisikletler.py adlı Python dosyasının içeriği\n",
        "\n",
        "import bisiklet\n",
        "\n",
        "bisiklet1 = bisiklet.Bisiklet()\n",
        "\n",
        "print(\"Bisiklet 1: \" + bisiklet1.ozellikler())\n",
        "\n",
        "```\n",
        "\n"
      ]
    },
    {
      "cell_type": "markdown",
      "metadata": {
        "id": "lmb0EwAx-xYG"
      },
      "source": [
        "**PyCharm Örneği**\n",
        "\n",
        "\n",
        "![bisiklet.py](http://www.madran.net/wp-content/uploads/2020/05/bisikletPY.png) \n",
        "\n",
        "bisiklet.py\n",
        "\n",
        "\n",
        "\n",
        "---\n",
        "\n",
        "\n",
        "\n",
        "![alt text](http://www.madran.net/wp-content/uploads/2020/05/bisikletlerPY.png)\n",
        "\n",
        "bisikletler.py"
      ]
    },
    {
      "cell_type": "markdown",
      "metadata": {
        "id": "btdYo-btCCu5"
      },
      "source": [
        "##Colab'de Modülün İçe Aktarılması\n",
        "\n",
        "Bir önceki bölümde (Modülün İçe Aktarılması) herhangi bir kişisel bilgisayarın sabit diski üzerinde çalışırken yerleşik olmayan (kendi yazdığımız) modülün içe aktarılması yer aldı.\n",
        "\n",
        "Bu bölümde ise Colab üzerinde çalışırken yerleşik olmayan bir modülü nasıl içe aktarılacağı yer almakta."
      ]
    },
    {
      "cell_type": "markdown",
      "metadata": {
        "id": "4KYGmiV4EQwz"
      },
      "source": [
        "**Örnek Uygulama**\n",
        "\n",
        "Aşağıda içeriği görüntülenen *bisiklet.py* adlı Python dosyası Google Drive içerisinde \"BBY162_Python_a_Giris.ipynb\" dosyasının ile aynı klasör içinde bulunmaktadır.\n",
        "\n",
        "```\n",
        "#bisiklet.py adlı modülün içeriği\n",
        "\"\"\"\n",
        "Bu modül içinde Bisiklet sınıfı yer almaktadır.\n",
        "\"\"\"\n",
        "class Bisiklet:\n",
        "    renk = \"Kırmızı\"\n",
        "    vites = 1\n",
        "    def ozellikler(self):\n",
        "        ozellikDetay = \"Bu bisiklet %s renkli ve %d viteslidir.\" % (self.renk, self.vites)\n",
        "        return ozellikDetay\n",
        "```\n"
      ]
    },
    {
      "cell_type": "code",
      "execution_count": null,
      "metadata": {
        "id": "slM_q141DkRK"
      },
      "outputs": [],
      "source": [
        "# Google Drive'ın bir disk olarak görülmesi \n",
        "from google.colab import drive\n",
        "drive.mount('gdrive') # bağlanan diskin 'gdrive' adı ile tanımlanması.\n",
        "\n",
        "import sys # bağlanan diskin fiziksel yolunun tespit edilmesi ve bağlantı yoluna eklenmesi\n",
        "sys.path.append('/content/gdrive/My Drive/Colab Notebooks/BBY162 - Programlama ve Algoritmalar/')\n",
        "\n",
        "import bisiklet # bisiklet.py içerisindeki 'bisiklet' modülünün içe aktarılması\n",
        "\n",
        "bisiklet1 = bisiklet.Bisiklet()\n",
        "print(\"Bisiklet 1: \" + bisiklet1.ozellikler())"
      ]
    },
    {
      "cell_type": "markdown",
      "metadata": {
        "id": "tVPUaDwZBfrc"
      },
      "source": [
        "##Yerleşik Modüller (built-in)\n",
        "Python aşağıdaki bağlantıda yer alan standart modüllerle birlikte gelir. Bu modüllerin *import* anahtar kelimesi ile çağrılması yeterlidir. Ayrıca bu modüllerin yüklenmesine gerek yoktur.\n",
        "\n",
        "[Python Standart Modülleri](https://docs.python.org/3/library/)"
      ]
    },
    {
      "cell_type": "markdown",
      "metadata": {
        "id": "1UvfkosdCOQW"
      },
      "source": [
        "**Örnek Uygulama**\n",
        "\n",
        "\n",
        "```\n",
        "import datetime\n",
        "print(datetime.datetime.today())\n",
        "```\n",
        "\n"
      ]
    },
    {
      "cell_type": "code",
      "execution_count": null,
      "metadata": {
        "id": "CKTfLO0PH3mF"
      },
      "outputs": [],
      "source": [
        "# Örnek uygulamayı çalıştır \n",
        "\n",
        "import datetime\n",
        "print(datetime.datetime.today())"
      ]
    },
    {
      "cell_type": "markdown",
      "metadata": {
        "id": "nqSNESNxDoVL"
      },
      "source": [
        "##from import Kullanımı\n",
        "İçe aktarma ifadesinin bir başka kullanım şekli *from* anahtar kelimesinin kullanılmasıdır. *from* ifadesi ile modül adları paketin içinde alınarak direkt kullanıma hazır hale getirilir. Bu şekilde, içe aktarılan modül, modül_adı öneki olmadan doğrudan kullanılır."
      ]
    },
    {
      "cell_type": "markdown",
      "metadata": {
        "id": "ccZnbUVLE9hg"
      },
      "source": [
        "**Örnek Uygulama**\n",
        "\n",
        "\n",
        "\n",
        "```\n",
        "#bisiklet.py adlı modülün içeriği\n",
        "\"\"\"\n",
        "Bu modül içinde Bisiklet sınıfı yer almaktadır.\n",
        "\"\"\"\n",
        "class Bisiklet:\n",
        "    renk = \"Kırmızı\"\n",
        "    vites = 1\n",
        "    def ozellikler(self):\n",
        "        ozellikDetay = \"Bu bisiklet %s renkli ve %d viteslidir.\" % (self.renk, self.vites)\n",
        "        return ozellikDetay\n",
        "```\n"
      ]
    },
    {
      "cell_type": "code",
      "execution_count": null,
      "metadata": {
        "id": "HxSSqtqMIYpS"
      },
      "outputs": [],
      "source": [
        "# Google Drive'ın bir disk olarak görülmesi \n",
        "from google.colab import drive\n",
        "drive.mount('gdrive') # bağlanan diskin 'gdrive' adı ile tanımlanması.\n",
        "\n",
        "import sys # bağlanan diskin fiziksel yolunun tespit edilmesi ve bağlantı yoluna eklenmesi\n",
        "sys.path.append('/content/gdrive/My Drive/Colab Notebooks/BBY162 - Programlama ve Algoritmalar/')\n",
        "\n",
        "from bisiklet import Bisiklet # bisiklet.py içerisindeki 'bisiklet' sınıfının içe aktarılması\n",
        "\n",
        "bisiklet1 = Bisiklet() # bisiklet ön tanımlamasına gerek kalmadı\n",
        "print(\"Bisiklet 1: \" + bisiklet1.ozellikler())"
      ]
    },
    {
      "cell_type": "markdown",
      "metadata": {
        "id": "8s0bn98LFdh4"
      },
      "source": [
        "#Bölüm 10: Dosya İşlemleri"
      ]
    },
    {
      "cell_type": "markdown",
      "metadata": {
        "id": "cTf7unkXFtRi"
      },
      "source": [
        "##Dosya Okuma\n",
        "Python, bilgisayarınızdaki bir dosyadan bilgi okumak ve yazmak için bir dizi yerleşik fonksiyona sahiptir. **open** fonksiyonu bir dosyayı açmak için kullanılır. Dosya, okuma modunda (ikinci argüman olarak \"r\" kullanılarak) veya yazma modunda (ikinci argüman olarak \"w\" kullanılarak) açılabilir. **open** fonksiyonu dosya nesnesini döndürür. Dosyanın saklanması için kapatılması gerekir."
      ]
    },
    {
      "cell_type": "markdown",
      "metadata": {
        "id": "SV9N24JsRqbk"
      },
      "source": [
        "**Örnek Uygulama**\n",
        "\n",
        "\n",
        "```\n",
        "#Google Drive Bağlantısı\n",
        "from google.colab import drive\n",
        "drive.mount('/gdrive')\n",
        "\n",
        "dosya = \"/gdrive/My Drive/Colab Notebooks/BBY162 - Programlama ve Algoritmalar/metin.txt\"\n",
        "\n",
        "f = open(dosya, \"r\") \n",
        "\n",
        "for line in f.readlines():\n",
        "    print(line)\n",
        "\n",
        "f.close()\n",
        "```\n",
        "\n",
        "Dosyanın sağlıklı şekilde okunabilmesi için Google Drive ile bağlantının kurulmuş olması ve okunacak dosyanın yolunun tam olarak belirtilmesi gerekmektedir.\n",
        "\n",
        "![Google Drive Colab Klasörü](http://www.madran.net/wp-content/uploads/2020/05/driveMetin.png)"
      ]
    },
    {
      "cell_type": "code",
      "execution_count": null,
      "metadata": {
        "id": "3KXhzd_FKMWt"
      },
      "outputs": [],
      "source": [
        "#Google Drive Bağlantısı\n",
        "from google.colab import drive\n",
        "drive.mount('/gdrive')\n",
        "\n",
        "dosya = \"/gdrive/My Drive/Colab Notebooks/BBY162 - Programlama ve Algoritmalar/metin.txt\"\n",
        "\n",
        "f = open(dosya, \"r\") \n",
        "\n",
        "for line in f.readlines():\n",
        "    print(line)\n",
        "\n",
        "f.close()"
      ]
    },
    {
      "cell_type": "markdown",
      "metadata": {
        "id": "pToEIEVUR16I"
      },
      "source": [
        "##Dosya Yazma\n",
        "Bir dosyayı ikinci argüman olarak \"w\" (yazma) kullanarak açarsanız, yeni bir boş dosya oluşturulur. Aynı ada sahip başka bir dosya varsa silineceğini unutmayın. Mevcut bir dosyaya içerik eklemek istiyorsanız \"a\" (ekleme) değiştiricisini kullanmalısınız."
      ]
    },
    {
      "cell_type": "markdown",
      "metadata": {
        "id": "aserUhlGcBVX"
      },
      "source": [
        "**Örnek Uygulama**\n",
        "\n",
        "Aşağıdaki örnekte dosya 'w' parametresi ile açıldığı için var olan dosyanın içindekiler silinir ve yeni veriler dosyaya yazılır. Dosyanın içindeki verilerin kalması ve yeni verilerin eklenmesi isteniyorsa dosya 'a' parametresi ile açılmalıdır.\n",
        "\n",
        "```\n",
        "#Google Drive Bağlantısı\n",
        "from google.colab import drive\n",
        "drive.mount('/gdrive')\n",
        " \n",
        "dosya = \"/gdrive/My Drive/Colab Notebooks/BBY162 - Programlama ve Algoritmalar/cikti.txt\"\n",
        "\n",
        "f = open(dosya, 'w') # Mevcut veriye ek veri yazılması için parametre: 'a'\n",
        "f.write(\"test\") # Her yeni verinin bir alt satıra yazdırılması \"test\\n\"\n",
        "f.close()\n",
        "```\n",
        "\n",
        "Kod çalıştırıldıktan sonra eğer *cikti.txt* adında bir dosya yoksa otomatik olarak oluşturulur ve istenilen içerik yazılır.\n",
        "\n",
        "![Google Drive Colab Klasörü](http://www.madran.net/wp-content/uploads/2020/05/driveColab.png)"
      ]
    },
    {
      "cell_type": "code",
      "execution_count": null,
      "metadata": {
        "id": "JGu95coVKdTn"
      },
      "outputs": [],
      "source": [
        "#Google Drive Bağlantısı\n",
        "from google.colab import drive\n",
        "drive.mount('/gdrive')\n",
        " \n",
        "dosya = \"/gdrive/My Drive/Colab Notebooks/BBY162 - Programlama ve Algoritmalar/cikti.txt\"\n",
        "\n",
        "f = open(dosya, 'w') # Mevcut veriye ek veri yazılması için parametre: 'a'\n",
        "f.write(\"test\") # Her yeni verinin bir alt satıra yazdırılması \"test\\n\"\n",
        "f.close()"
      ]
    }
  ],
  "metadata": {
    "colab": {
      "collapsed_sections": [],
      "name": "Python_101.ipynb adlı not defterinin kopyası adlı not defterinin kopyası",
      "provenance": [],
      "toc_visible": true,
      "include_colab_link": true
    },
    "kernelspec": {
      "display_name": "Python 3",
      "name": "python3"
    }
  },
  "nbformat": 4,
  "nbformat_minor": 0
}