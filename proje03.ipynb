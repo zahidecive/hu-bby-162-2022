{
  "nbformat": 4,
  "nbformat_minor": 0,
  "metadata": {
    "colab": {
      "name": "Proje03.ipynb",
      "provenance": [],
      "authorship_tag": "ABX9TyO65M82aYl8wplw0Ax3wHWP",
      "include_colab_link": true
    },
    "kernelspec": {
      "name": "python3",
      "display_name": "Python 3"
    },
    "language_info": {
      "name": "python"
    }
  },
  "cells": [
    {
      "cell_type": "markdown",
      "metadata": {
        "id": "view-in-github",
        "colab_type": "text"
      },
      "source": [
        "<a href=\"https://colab.research.google.com/github/zahidecive/hu-bby162-2022/blob/main/proje03.ipynb\" target=\"_parent\"><img src=\"https://colab.research.google.com/assets/colab-badge.svg\" alt=\"Open In Colab\"/></a>"
      ]
    },
    {
      "cell_type": "code",
      "execution_count": null,
      "metadata": {
        "colab": {
          "base_uri": "https://localhost:8080/"
        },
        "id": "jQ3A6C4HkBL1",
        "outputId": "b7f037d2-35c3-4110-97b7-317ac2f42a1b"
      },
      "outputs": [
        {
          "output_type": "stream",
          "name": "stdout",
          "text": [
            "Teste Hoş Geldin!\n",
            "Cevaplar 'd' veya 'y' şeklinde giriniz.\n",
            "Başarılar!!\n",
            "Soru 1: Alanya, Antalya'nın bir ilçesidir.\n"
          ]
        }
      ],
      "source": [
        "#Test\n",
        "\n",
        "print(\"Teste Hoş Geldin!\")\n",
        "print(\"Cevaplar \\'d' veya \\'y' şeklinde giriniz.\")\n",
        "print(\"Başarılar!!\")\n",
        "\n",
        "\n",
        "sorular = [\"Alanya, Antalya\\'nın bir ilçesidir.\", \"İstanbul 14. yüzyılda fethedilmiştir.\", \"Her doğal sayı tam sayıdır.\", \"Çeyrek altın 0.25 gramdır.\", \"Afrika bir ülke değildir.\"]\n",
        "cevaplar = [\"d\", \"y\", \"d\", \"y\", \"d\" ]\n",
        "\n",
        "def testcalıstır() :\n",
        "      soruNo = 0\n",
        "      cevapNo = 0\n",
        "      puan = 0\n",
        "      for soru in sorular:\n",
        "        soruNo +=1\n",
        "        print(\"Soru \" + str(soruNo) + \": \" + soru)\n",
        "        cevap = input(\"d/y\")\n",
        "        if cevap == cevaplar[cevapNo]:\n",
        "          print(\"Doğru cevap!\")\n",
        "          puan +=1\n",
        "        else:\n",
        "          print(\"Yanlış cevap!\")\n",
        "        cevapNo +=1\n",
        "      toplamPuan = int((puan/soruNo)*100)\n",
        "      print(\"Toplam puanınız: \" + str(toplamPuan))\n",
        "      if toplamPuan >= 60:\n",
        "       print(\"Tebrikler, geçtin!\")\n",
        "      else:\n",
        "       print(\"Testi geçemedin!\")\n",
        "       tekrar = input(\"Testi tekrar etmek ister misin [e/h]\")\n",
        "      if tekrar == \"e\" :\n",
        "        testcalıstır()\n",
        "      else:\n",
        "        print(\"Test sonlandı!\")\n",
        "      testcalıstır()\n",
        "\n",
        "\n",
        "testcalıstır()"
      ]
    }
  ]
}