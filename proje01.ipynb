{
  "nbformat": 4,
  "nbformat_minor": 0,
  "metadata": {
    "colab": {
      "name": "proje01.ipynb",
      "provenance": [],
      "authorship_tag": "ABX9TyMi3+pjLVgiRZXaiePkQ1UO",
      "include_colab_link": true
    },
    "kernelspec": {
      "name": "python3",
      "display_name": "Python 3"
    },
    "language_info": {
      "name": "python"
    }
  },
  "cells": [
    {
      "cell_type": "markdown",
      "metadata": {
        "id": "view-in-github",
        "colab_type": "text"
      },
      "source": [
        "<a href=\"https://colab.research.google.com/github/zahidecive/hu-bby-162-2022/blob/main/proje01.ipynb\" target=\"_parent\"><img src=\"https://colab.research.google.com/assets/colab-badge.svg\" alt=\"Open In Colab\"/></a>"
      ]
    },
    {
      "cell_type": "code",
      "execution_count": 5,
      "metadata": {
        "colab": {
          "base_uri": "https://localhost:8080/"
        },
        "id": "H6WYonOyZjVn",
        "outputId": "07a1e60e-3b30-47e4-a566-81f02aae00a0"
      },
      "outputs": [
        {
          "output_type": "stream",
          "name": "stdout",
          "text": [
            "İndeks numarasınız girin: 2\n",
            "Bir sayı girdiniz.\n",
            "leopar\n"
          ]
        }
      ],
      "source": [
        "liste = [\"tavşan\", \"marul\", \"leopar\", \"salam\", \"demir\", \"tahta\"]\n",
        "while True:\n",
        "  try:\n",
        "    secim = int(input(\"İndeks numarasınız girin: \"))\n",
        "  except ValeuError:\n",
        "    print(\"Lütfen bir sayı girin.\")\n",
        "    continue\n",
        "  else :\n",
        "     print(\"Bir sayı girdiniz.\")\n",
        "     break\n",
        "listeToplam = len(liste)\n",
        "\n",
        "if secim < listeToplam:\n",
        "  print(liste[secim])\n",
        "else:\n",
        "  print(\"İndeks dışı giriş yaptınız.\")"
      ]
    }
  ]
}