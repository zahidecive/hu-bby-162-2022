{
  "nbformat": 4,
  "nbformat_minor": 0,
  "metadata": {
    "colab": {
      "name": "Proje03.ipynb",
      "provenance": [],
      "authorship_tag": "ABX9TyOunWbjH5E/hT19qobwEFXW",
      "include_colab_link": true
    },
    "kernelspec": {
      "name": "python3",
      "display_name": "Python 3"
    },
    "language_info": {
      "name": "python"
    }
  },
  "cells": [
    {
      "cell_type": "markdown",
      "metadata": {
        "id": "view-in-github",
        "colab_type": "text"
      },
      "source": [
        "<a href=\"https://colab.research.google.com/github/zahidecive/hu-bby-162-2022/blob/main/Proje03.ipynb\" target=\"_parent\"><img src=\"https://colab.research.google.com/assets/colab-badge.svg\" alt=\"Open In Colab\"/></a>"
      ]
    },
    {
      "cell_type": "code",
      "execution_count": 7,
      "metadata": {
        "colab": {
          "base_uri": "https://localhost:8080/"
        },
        "id": "jQ3A6C4HkBL1",
        "outputId": "c99c9e64-30d6-4ab1-b4f9-92ce37905bd0"
      },
      "outputs": [
        {
          "output_type": "stream",
          "name": "stdout",
          "text": [
            "Teste Hoş Geldin!\n",
            "Cevaplar 'doğru' veya 'yanlış' şeklinde giriniz.\n",
            "Başarılar Dileriz!\n",
            "1.Soru: Alanya, Antalya'nın bir ilçesidir.\n",
            "Cevabın: doğru\n",
            "Doğru yanıt!\n",
            "2.Soru: İstanbul 14. yüzyılda fethedilmiştir.\n",
            "Cevabın: yanlış\n",
            "Doğru yanıt!\n",
            "Cevabın: doğru\n",
            "Doğru yanıt!\n",
            "4.Soru: Çeyrek altın 0.25 gramdır.\n",
            "Cevabın: doğru\n",
            "Yanlış yanıt!\n",
            "5.Soru: Afrika bir ülke değildir.\n",
            "Cevabın: yanlış\n",
            "Yanlış yanıt!\n",
            "3 doğru, 2 yanlış = 60 puan\n",
            "TEBRİKLER! Geçtin\n"
          ]
        }
      ],
      "source": [
        "#Test\n",
        "\n",
        "print(\"Teste Hoş Geldin!\")\n",
        "print(\"Cevaplar \\'doğru' veya \\'yanlış' şeklinde giriniz.\")\n",
        "print(\"Başarılar Dileriz!\")\n",
        "\n",
        "puan = 0\n",
        "\n",
        "sorular = [\"Alanya, Antalya\\'nın bir ilçesidir.\", \"İstanbul 14. yüzyılda fethedilmiştir.\", \"Her doğal sayı tam sayıdır.\", \"Çeyrek altın 0.25 gramdır.\", \"Afrika bir ülke değildir.\"]\n",
        "cevaplar = [\"doğru\", \"yanlış\", \"doğru\", \"yanlış\", \"doğru\" ]\n",
        "\n",
        "print(\"1.Soru: \" + sorular[0])\n",
        "cevap = input (\"Cevabın: \")\n",
        "if cevap == cevaplar[0]:\n",
        "  print(\"Doğru yanıt!\")\n",
        "  puan += 20\n",
        "else:\n",
        "  print(\"Yanlış yanıt!\")\n",
        "\n",
        "print(\"2.Soru: \" + sorular[1])\n",
        "cevap = input (\"Cevabın: \")\n",
        "if cevap == cevaplar[1]:\n",
        "  print(\"Doğru yanıt!\")\n",
        "  puan += 20\n",
        "else:\n",
        "  print(\"Yanlış yanıt!\")\n",
        "\n",
        "  print(\"3.Soru: \" + sorular[2])\n",
        "cevap = input (\"Cevabın: \")\n",
        "if cevap == cevaplar[2]:\n",
        "  print(\"Doğru yanıt!\")\n",
        "  puan += 20\n",
        "else:\n",
        "  print(\"Yanlış yanıt!\")\n",
        "\n",
        "print(\"4.Soru: \" + sorular[3])\n",
        "cevap = input (\"Cevabın: \")\n",
        "if cevap == cevaplar[3]:\n",
        "  print(\"Doğru yanıt!\")\n",
        "  puan += 20\n",
        "else:\n",
        "  print(\"Yanlış yanıt!\")\n",
        "\n",
        "  print(\"5.Soru: \" + sorular[4])\n",
        "cevap = input (\"Cevabın: \")\n",
        "if cevap == cevaplar[4]:\n",
        "  print(\"Doğru yanıt!\")\n",
        "  puan += 20\n",
        "else:\n",
        "  print(\"Yanlış yanıt!\")\n",
        "\n",
        "  \n",
        "if puan == 0:\n",
        "  print(\"0 doğru = 0 puan\")\n",
        "  print(\"Kaldın\")\n",
        "  tekrar = input(\"Testi tekrar etmek ister misiniz? - evet/hayır \")\n",
        "  if tekrar == evet:\n",
        "    print(\"Başarılar!\")\n",
        "  elif tekrar == hayır:\n",
        "    print(\"Güle Güle!\")\n",
        "    \n",
        "elif puan == 20:\n",
        "  print(\"1 doğru, 4 yanlış = 20 puan\")\n",
        "  print(\"Kaldın\")\n",
        "  tekrar = input(\"Testi tekrar etmek ister misiniz? - evet/hayır \")\n",
        "  if tekrar == evet:\n",
        "    print(\"Başarılar!\")\n",
        "  elif tekrar == hayır:\n",
        "    print(\"Güle Güle!\")\n",
        "    \n",
        "elif puan == 40:\n",
        "  print(\"2 doğru, 3 yanlış = 40 puan\")\n",
        "  print(\"Kaldın\")\n",
        "  tekrar = input(\"Testi tekrar etmek ister misiniz? - evet/hayır \")\n",
        "  if tekrar == evet:\n",
        "    print(\"Başarılar!\")\n",
        "  elif tekrar == hayır:\n",
        "    print(\"Güle Güle!\")\n",
        "    \n",
        "elif puan == 60:\n",
        "  print(\"3 doğru, 2 yanlış = 60 puan\")\n",
        "  print(\"TEBRİKLER! Geçtin\")\n",
        "\n",
        "elif puan == 80:\n",
        "  print(\"4 doğru, 1 yanlış = 80 puan\")\n",
        "  print(\"TEBRİKLER! Geçtin\")\n",
        "\n",
        "elif puan == 100:\n",
        "  print(\"5 doğru, 0 yanlış = 100 puan\")\n",
        "  print(\"TEBRİKLER! Tam Puanla Testi Tamamladın.\")\n",
        "\n",
        "\n",
        "\n"
      ]
    }
  ]
}