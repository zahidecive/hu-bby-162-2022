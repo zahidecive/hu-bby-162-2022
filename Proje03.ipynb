{
  "nbformat": 4,
  "nbformat_minor": 0,
  "metadata": {
    "colab": {
      "name": "Proje03.ipynb",
      "provenance": [],
      "authorship_tag": "ABX9TyOV4MqHQjekc9SZ5kLrg9oG",
      "include_colab_link": true
    },
    "kernelspec": {
      "name": "python3",
      "display_name": "Python 3"
    },
    "language_info": {
      "name": "python"
    }
  },
  "cells": [
    {
      "cell_type": "markdown",
      "metadata": {
        "id": "view-in-github",
        "colab_type": "text"
      },
      "source": [
        "<a href=\"https://colab.research.google.com/github/zahidecive/hu-bby-162-2022/blob/main/Proje03.ipynb\" target=\"_parent\"><img src=\"https://colab.research.google.com/assets/colab-badge.svg\" alt=\"Open In Colab\"/></a>"
      ]
    },
    {
      "cell_type": "code",
      "execution_count": 61,
      "metadata": {
        "colab": {
          "base_uri": "https://localhost:8080/"
        },
        "id": "jQ3A6C4HkBL1",
        "outputId": "f91a2c29-f6b8-4b23-b6ea-4562ced812fd"
      },
      "outputs": [
        {
          "output_type": "stream",
          "name": "stdout",
          "text": [
            "Teste Hoş Geldin!\n",
            "Cevaplar 'doğru' veya 'yanlış' şeklinde giriniz.\n",
            "Başarılar Dileriz!\n",
            "1.Soru: Alanya, Antalya'nın bir ilçesidir.\n",
            "Cevabın: doğru\n",
            "Doğru yanıt!\n",
            "2.Soru: İstanbul 14. yüzyılda fethedilmiştir.\n",
            "Cevabın: yanlış\n",
            "Doğru yanıt!\n",
            "Cevabın: doğru\n",
            "Doğru yanıt!\n",
            "4.Soru: Çeyrek altın 0.25 gramdır.\n",
            "Cevabın: yanlış\n",
            "Doğru yanıt!\n",
            "Cevabın: doğru\n",
            "Doğru yanıt!\n",
            "Tebrikler Geçtin!\n",
            "100\n",
            "İyi Günler!\n"
          ]
        }
      ],
      "source": [
        "#Test\n",
        "\n",
        "print(\"Teste Hoş Geldin!\")\n",
        "print(\"Cevaplar \\'doğru' veya \\'yanlış' şeklinde giriniz.\")\n",
        "print(\"Başarılar Dileriz!\")\n",
        "\n",
        "puan = 0\n",
        "\n",
        "sorular = [\"Alanya, Antalya\\'nın bir ilçesidir.\", \"İstanbul 14. yüzyılda fethedilmiştir.\", \"Her doğal sayı tam sayıdır.\", \"Çeyrek altın 0.25 gramdır.\", \"Afrika bir ülke değildir.\"]\n",
        "cevaplar = [\"doğru\", \"yanlış\", \"doğru\", \"yanlış\", \"doğru\" ]\n",
        "\n",
        "print(\"1.Soru: \" + sorular[0])\n",
        "cevap = input (\"Cevabın: \")\n",
        "if cevap == cevaplar[0]:\n",
        "  print(\"Doğru yanıt!\")\n",
        "  puan += 20\n",
        "else:\n",
        "  print(\"Yanlış yanıt!\")\n",
        "\n",
        "print(\"2.Soru: \" + sorular[1])\n",
        "cevap = input (\"Cevabın: \")\n",
        "if cevap == cevaplar[1]:\n",
        "  print(\"Doğru yanıt!\")\n",
        "  puan += 20\n",
        "else:\n",
        "  print(\"Yanlış yanıt!\")\n",
        "\n",
        "  print(\"3.Soru: \" + sorular[2])\n",
        "cevap = input (\"Cevabın: \")\n",
        "if cevap == cevaplar[2]:\n",
        "  print(\"Doğru yanıt!\")\n",
        "  puan += 20\n",
        "else:\n",
        "  print(\"Yanlış yanıt!\")\n",
        "\n",
        "print(\"4.Soru: \" + sorular[3])\n",
        "cevap = input (\"Cevabın: \")\n",
        "if cevap == cevaplar[3]:\n",
        "  print(\"Doğru yanıt!\")\n",
        "  puan += 20\n",
        "else:\n",
        "  print(\"Yanlış yanıt!\")\n",
        "\n",
        "  print(\"5.Soru: \" + sorular[4])\n",
        "cevap = input (\"Cevabın: \")\n",
        "if cevap == cevaplar[4]:\n",
        "  print(\"Doğru yanıt!\")\n",
        "  puan += 20\n",
        "else:\n",
        "  print(\"Yanlış yanıt!\")\n",
        "\n",
        " \n",
        "\n",
        "if puan >= 60:\n",
        "  print(\"Tebrikler Geçtin!\")\n",
        "  print(puan)\n",
        "else:\n",
        "  print(\"Kaldın!\")\n",
        " \n",
        "  soru = (\"Testi tekrar etmek ister misin: \")\n",
        "  cevabın = (\"evet\", \"hayır\") \n",
        "  print(soru)\n",
        "  cevap = input (\"Cevabın: \")\n",
        "if cevap == cevabın[0]:\n",
        "  print(\"Başarılar!\")\n",
        "else:\n",
        "  print(\"İyi Günler!\")\n",
        "\n",
        "\n",
        "\n"
      ]
    }
  ]
}